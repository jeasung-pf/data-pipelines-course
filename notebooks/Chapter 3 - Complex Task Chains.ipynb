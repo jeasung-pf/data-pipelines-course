{
 "cells": [
  {
   "cell_type": "code",
   "execution_count": 1,
   "metadata": {
    "collapsed": true
   },
   "outputs": [],
   "source": [
    "import sys"
   ]
  },
  {
   "cell_type": "code",
   "execution_count": 2,
   "metadata": {
    "collapsed": false
   },
   "outputs": [],
   "source": [
    "sys.path.append('/var/www/pipelines/celery_app')"
   ]
  },
  {
   "cell_type": "code",
   "execution_count": 3,
   "metadata": {
    "collapsed": true
   },
   "outputs": [],
   "source": [
    "from tasks import get_stock_info, price_range, determine_buy, sort_results"
   ]
  },
  {
   "cell_type": "code",
   "execution_count": 4,
   "metadata": {
    "collapsed": true
   },
   "outputs": [],
   "source": [
    "from celery import chain, group, chord"
   ]
  },
  {
   "cell_type": "code",
   "execution_count": 5,
   "metadata": {
    "collapsed": true
   },
   "outputs": [],
   "source": [
    "from datetime import datetime"
   ]
  },
  {
   "cell_type": "code",
   "execution_count": 6,
   "metadata": {
    "collapsed": true
   },
   "outputs": [],
   "source": [
    "my_stocks = ['FB', 'GOOG', 'IBM']"
   ]
  },
  {
   "cell_type": "code",
   "execution_count": 7,
   "metadata": {
    "collapsed": true
   },
   "outputs": [],
   "source": [
    "start = datetime(2016,1,1)\n",
    "end = datetime.today()"
   ]
  },
  {
   "cell_type": "markdown",
   "metadata": {},
   "source": [
    "### Working with Chains"
   ]
  },
  {
   "cell_type": "code",
   "execution_count": 8,
   "metadata": {
    "collapsed": false
   },
   "outputs": [],
   "source": [
    "my_chain = chain(price_range.s('FB', start, end), determine_buy.s())"
   ]
  },
  {
   "cell_type": "code",
   "execution_count": 9,
   "metadata": {
    "collapsed": false
   },
   "outputs": [
    {
     "data": {
      "text/plain": [
       "tasks.price_range('FB', datetime.datetime(2016, 1, 1, 0, 0), datetime.datetime(2016, 8, 22, 9, 47, 10, 633098)) | tasks.determine_buy()"
      ]
     },
     "execution_count": 9,
     "metadata": {},
     "output_type": "execute_result"
    }
   ],
   "source": [
    "my_chain"
   ]
  },
  {
   "cell_type": "code",
   "execution_count": 10,
   "metadata": {
    "collapsed": false
   },
   "outputs": [],
   "source": [
    "res = my_chain()"
   ]
  },
  {
   "cell_type": "code",
   "execution_count": 11,
   "metadata": {
    "collapsed": false
   },
   "outputs": [
    {
     "data": {
      "text/plain": [
       "<AsyncResult: ff86c59a-16f3-4ef8-b12c-6649cd8aea2e>"
      ]
     },
     "execution_count": 11,
     "metadata": {},
     "output_type": "execute_result"
    }
   ],
   "source": [
    "res"
   ]
  },
  {
   "cell_type": "code",
   "execution_count": 12,
   "metadata": {
    "collapsed": false
   },
   "outputs": [
    {
     "data": {
      "text/plain": [
       "'SUCCESS'"
      ]
     },
     "execution_count": 12,
     "metadata": {},
     "output_type": "execute_result"
    }
   ],
   "source": [
    "res.state"
   ]
  },
  {
   "cell_type": "code",
   "execution_count": 13,
   "metadata": {
    "collapsed": false
   },
   "outputs": [
    {
     "data": {
      "text/plain": [
       "False"
      ]
     },
     "execution_count": 13,
     "metadata": {},
     "output_type": "execute_result"
    }
   ],
   "source": [
    "res.get()"
   ]
  },
  {
   "cell_type": "markdown",
   "metadata": {},
   "source": [
    "### Working with Groups"
   ]
  },
  {
   "cell_type": "code",
   "execution_count": 14,
   "metadata": {
    "collapsed": true
   },
   "outputs": [],
   "source": [
    "my_grp = group(get_stock_info.s(stk, start, end) for stk in my_stocks)"
   ]
  },
  {
   "cell_type": "code",
   "execution_count": 15,
   "metadata": {
    "collapsed": false
   },
   "outputs": [
    {
     "data": {
      "text/plain": [
       "[tasks.get_stock_info('FB', datetime.datetime(2016, 1, 1, 0, 0), datetime.datetime(2016, 8, 22, 9, 47, 10, 633098)), tasks.get_stock_info('GOOG', datetime.datetime(2016, 1, 1, 0, 0), datetime.datetime(2016, 8, 22, 9, 47, 10, 633098)), tasks.get_stock_info('IBM', datetime.datetime(2016, 1, 1, 0, 0), datetime.datetime(2016, 8, 22, 9, 47, 10, 633098))]"
      ]
     },
     "execution_count": 15,
     "metadata": {},
     "output_type": "execute_result"
    }
   ],
   "source": [
    "my_grp"
   ]
  },
  {
   "cell_type": "code",
   "execution_count": 16,
   "metadata": {
    "collapsed": false
   },
   "outputs": [],
   "source": [
    "res = my_grp()"
   ]
  },
  {
   "cell_type": "code",
   "execution_count": 17,
   "metadata": {
    "collapsed": false
   },
   "outputs": [
    {
     "data": {
      "text/plain": [
       "<GroupResult: 7a3db195-6340-498b-adb1-f3981dd7667e [1286288f-2622-4dac-83ab-92961be18fe7, 2d6344f5-f03f-47b0-b5e7-399289783e72, b3bf473b-fe6f-4e34-bb17-2dafd80ee35b]>"
      ]
     },
     "execution_count": 17,
     "metadata": {},
     "output_type": "execute_result"
    }
   ],
   "source": [
    "res"
   ]
  },
  {
   "cell_type": "code",
   "execution_count": 18,
   "metadata": {
    "collapsed": false
   },
   "outputs": [
    {
     "data": {
      "text/plain": [
       "['{\"Open min\":{\"FB\":92.830002},\"Open max\":{\"FB\":127.519997},\"Open mean\":{\"FB\":112.8902501312},\"Open median\":{\"FB\":113.8500025},\"Low min\":{\"FB\":89.370003},\"Low max\":{\"FB\":124.75},\"Low mean\":{\"FB\":111.5968122063},\"Low median\":{\"FB\":112.959999},\"High min\":{\"FB\":95.0},\"High max\":{\"FB\":128.330002},\"High mean\":{\"FB\":113.9396873375},\"High median\":{\"FB\":114.7299995},\"Adj Close min\":{\"FB\":94.160004},\"Adj Close max\":{\"FB\":125.260002},\"Adj Close mean\":{\"FB\":112.8609373937},\"Adj Close median\":{\"FB\":113.9300005},\"Close min\":{\"FB\":94.160004},\"Close max\":{\"FB\":125.260002},\"Close mean\":{\"FB\":112.8609373937},\"Close median\":{\"FB\":113.9300005}}',\n",
       " '{\"Open min\":{\"GOOG\":667.849976},\"Open max\":{\"GOOG\":785.0},\"Open mean\":{\"GOOG\":724.2199360063},\"Open median\":{\"GOOG\":722.4649965},\"Low min\":{\"GOOG\":663.059998},\"Low max\":{\"GOOG\":782.969971},\"Low mean\":{\"GOOG\":717.8580696687},\"Low median\":{\"GOOG\":716.169983},\"Close min\":{\"GOOG\":668.26001},\"Close max\":{\"GOOG\":784.849976},\"Close mean\":{\"GOOG\":724.18143845},\"Close median\":{\"GOOG\":719.6299745},\"High min\":{\"GOOG\":672.299988},\"High max\":{\"GOOG\":789.869995},\"High mean\":{\"GOOG\":730.2307738688},\"High median\":{\"GOOG\":725.828003},\"Adj Close min\":{\"GOOG\":668.26001},\"Adj Close max\":{\"GOOG\":784.849976},\"Adj Close mean\":{\"GOOG\":724.18143845},\"Adj Close median\":{\"GOOG\":719.6299745}}',\n",
       " '{\"Open min\":{\"IBM\":118.459999},\"Open max\":{\"IBM\":163.190002},\"Open mean\":{\"IBM\":145.5231246875},\"Open median\":{\"IBM\":148.4449995},\"Low min\":{\"IBM\":116.900002},\"Low max\":{\"IBM\":162.179993},\"Low mean\":{\"IBM\":144.4778746625},\"Low median\":{\"IBM\":147.3549955},\"High min\":{\"IBM\":119.660004},\"High max\":{\"IBM\":164.949997},\"High mean\":{\"IBM\":146.7556872938},\"High median\":{\"IBM\":149.774994},\"Adj Close min\":{\"IBM\":115.72409},\"Adj Close max\":{\"IBM\":163.529999},\"Adj Close mean\":{\"IBM\":143.7099821812},\"Adj Close median\":{\"IBM\":146.422927},\"Close min\":{\"IBM\":117.849998},\"Close max\":{\"IBM\":163.529999},\"Close mean\":{\"IBM\":145.7649376375},\"Close median\":{\"IBM\":148.4800035}}']"
      ]
     },
     "execution_count": 18,
     "metadata": {},
     "output_type": "execute_result"
    }
   ],
   "source": [
    "res.get()"
   ]
  },
  {
   "cell_type": "markdown",
   "metadata": {},
   "source": [
    "### Working with Chords (redis backend only!)"
   ]
  },
  {
   "cell_type": "code",
   "execution_count": 19,
   "metadata": {
    "collapsed": false
   },
   "outputs": [],
   "source": [
    "header = [price_range.subtask((stk, start, end)) for stk in my_stocks]"
   ]
  },
  {
   "cell_type": "code",
   "execution_count": 23,
   "metadata": {
    "collapsed": false
   },
   "outputs": [
    {
     "name": "stdout",
     "output_type": "stream",
     "text": [
      "1 loop, best of 3: 849 ms per loop\n"
     ]
    }
   ],
   "source": [
    "%timeit sort_results(group(header)().get())"
   ]
  },
  {
   "cell_type": "code",
   "execution_count": 24,
   "metadata": {
    "collapsed": false
   },
   "outputs": [
    {
     "data": {
      "text/plain": [
       "[{'percent_change': 9.2799999999999994,\n",
       "  'period_end': datetime.datetime(2016, 8, 22, 9, 47, 10, 633098),\n",
       "  'period_high': 125.260002,\n",
       "  'period_low': 94.160004000000001,\n",
       "  'period_mean': 112.86093739375001,\n",
       "  'period_start': datetime.datetime(2016, 1, 1, 0, 0),\n",
       "  'result': 'higher',\n",
       "  'stock': 'FB',\n",
       "  'todays_price': 123.34},\n",
       " {'percent_change': 11.06,\n",
       "  'period_end': datetime.datetime(2016, 8, 22, 9, 47, 10, 633098),\n",
       "  'period_high': 163.529999,\n",
       "  'period_low': 115.72408999999999,\n",
       "  'period_mean': 143.70998218125001,\n",
       "  'period_start': datetime.datetime(2016, 1, 1, 0, 0),\n",
       "  'result': 'higher',\n",
       "  'stock': 'IBM',\n",
       "  'todays_price': 159.61000000000001},\n",
       " {'percent_change': 6.54,\n",
       "  'period_end': datetime.datetime(2016, 8, 22, 9, 47, 10, 633098),\n",
       "  'period_high': 784.84997599999997,\n",
       "  'period_low': 668.26000999999997,\n",
       "  'period_mean': 724.18143844999997,\n",
       "  'period_start': datetime.datetime(2016, 1, 1, 0, 0),\n",
       "  'result': 'higher',\n",
       "  'stock': 'GOOG',\n",
       "  'todays_price': 771.55999999999995}]"
      ]
     },
     "execution_count": 24,
     "metadata": {},
     "output_type": "execute_result"
    }
   ],
   "source": [
    "sort_results(group(header)().get())"
   ]
  },
  {
   "cell_type": "code",
   "execution_count": 25,
   "metadata": {
    "collapsed": false
   },
   "outputs": [],
   "source": [
    "callback = sort_results.subtask()"
   ]
  },
  {
   "cell_type": "code",
   "execution_count": 26,
   "metadata": {
    "collapsed": false
   },
   "outputs": [
    {
     "name": "stdout",
     "output_type": "stream",
     "text": [
      "1 loop, best of 3: 1.16 s per loop\n"
     ]
    }
   ],
   "source": [
    "%timeit chord(header)(callback).get()"
   ]
  },
  {
   "cell_type": "code",
   "execution_count": 27,
   "metadata": {
    "collapsed": false
   },
   "outputs": [
    {
     "data": {
      "text/plain": [
       "[{'percent_change': 9.3100000000000005,\n",
       "  'period_end': datetime.datetime(2016, 8, 22, 9, 47, 10, 633098),\n",
       "  'period_high': 125.260002,\n",
       "  'period_low': 94.160004000000001,\n",
       "  'period_mean': 112.86093739375001,\n",
       "  'period_start': datetime.datetime(2016, 1, 1, 0, 0),\n",
       "  'result': 'higher',\n",
       "  'stock': 'FB',\n",
       "  'todays_price': 123.37},\n",
       " {'percent_change': 11.06,\n",
       "  'period_end': datetime.datetime(2016, 8, 22, 9, 47, 10, 633098),\n",
       "  'period_high': 163.529999,\n",
       "  'period_low': 115.72408999999999,\n",
       "  'period_mean': 143.70998218125001,\n",
       "  'period_start': datetime.datetime(2016, 1, 1, 0, 0),\n",
       "  'result': 'higher',\n",
       "  'stock': 'IBM',\n",
       "  'todays_price': 159.61000000000001},\n",
       " {'percent_change': 6.5099999999999998,\n",
       "  'period_end': datetime.datetime(2016, 8, 22, 9, 47, 10, 633098),\n",
       "  'period_high': 784.84997599999997,\n",
       "  'period_low': 668.26000999999997,\n",
       "  'period_mean': 724.18143844999997,\n",
       "  'period_start': datetime.datetime(2016, 1, 1, 0, 0),\n",
       "  'result': 'higher',\n",
       "  'stock': 'GOOG',\n",
       "  'todays_price': 771.30999999999995}]"
      ]
     },
     "execution_count": 27,
     "metadata": {},
     "output_type": "execute_result"
    }
   ],
   "source": [
    "chord(header)(callback).get()"
   ]
  },
  {
   "cell_type": "code",
   "execution_count": null,
   "metadata": {
    "collapsed": true
   },
   "outputs": [],
   "source": []
  }
 ],
 "metadata": {
  "kernelspec": {
   "display_name": "Python 3",
   "language": "python",
   "name": "python3"
  },
  "language_info": {
   "codemirror_mode": {
    "name": "ipython",
    "version": 3
   },
   "file_extension": ".py",
   "mimetype": "text/x-python",
   "name": "python",
   "nbconvert_exporter": "python",
   "pygments_lexer": "ipython3",
   "version": "3.4.2"
  }
 },
 "nbformat": 4,
 "nbformat_minor": 1
}
