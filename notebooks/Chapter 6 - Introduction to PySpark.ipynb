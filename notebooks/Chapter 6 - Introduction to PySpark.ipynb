{
 "cells": [
  {
   "cell_type": "markdown",
   "metadata": {},
   "source": [
    "### Introduction to PySpark"
   ]
  },
  {
   "cell_type": "code",
   "execution_count": 1,
   "metadata": {
    "collapsed": false
   },
   "outputs": [
    {
     "data": {
      "text/plain": [
       "<pyspark.context.SparkContext at 0x1056a1400>"
      ]
     },
     "execution_count": 1,
     "metadata": {},
     "output_type": "execute_result"
    }
   ],
   "source": [
    "sc"
   ]
  },
  {
   "cell_type": "code",
   "execution_count": 2,
   "metadata": {
    "collapsed": false
   },
   "outputs": [
    {
     "data": {
      "text/plain": [
       "<pyspark.sql.context.SQLContext at 0x105e96a90>"
      ]
     },
     "execution_count": 2,
     "metadata": {},
     "output_type": "execute_result"
    }
   ],
   "source": [
    "sqlCtx"
   ]
  },
  {
   "cell_type": "code",
   "execution_count": 3,
   "metadata": {
    "collapsed": false
   },
   "outputs": [
    {
     "data": {
      "text/plain": [
       "20"
      ]
     },
     "execution_count": 3,
     "metadata": {},
     "output_type": "execute_result"
    }
   ],
   "source": [
    "rdd = sc.parallelize(range(1000), 20)  \n",
    "rdd.getNumPartitions()"
   ]
  },
  {
   "cell_type": "code",
   "execution_count": 4,
   "metadata": {
    "collapsed": false
   },
   "outputs": [
    {
     "data": {
      "text/plain": [
       "[0, 1, 2, 3, 4]"
      ]
     },
     "execution_count": 4,
     "metadata": {},
     "output_type": "execute_result"
    }
   ],
   "source": [
    "rdd.take(5)"
   ]
  },
  {
   "cell_type": "code",
   "execution_count": 5,
   "metadata": {
    "collapsed": false
   },
   "outputs": [],
   "source": [
    "text_rdd = sc.textFile(\n",
    "    'file:///Users/kjam/data-pipelines-course/data/europarl_speech_text.txt')"
   ]
  },
  {
   "cell_type": "code",
   "execution_count": 6,
   "metadata": {
    "collapsed": false
   },
   "outputs": [
    {
     "data": {
      "text/plain": [
       "PythonRDD[4] at RDD at PythonRDD.scala:48"
      ]
     },
     "execution_count": 6,
     "metadata": {},
     "output_type": "execute_result"
    }
   ],
   "source": [
    "text_rdd.filter(lambda x: 'Deutschland' in x)"
   ]
  },
  {
   "cell_type": "code",
   "execution_count": 7,
   "metadata": {
    "collapsed": false
   },
   "outputs": [
    {
     "data": {
      "text/plain": [
       "'\"Ich begrüße die Gewährung eines finanziellen Beitrags aus dem Europäischen Fonds für die Anpassung an die Globalisierung, den die deutschen Behörden im Zuge der Entlassungen bei der Aleo Solar AG und zwei ihrer Tochtergesellschaften beantragt hatten.,Dieser Fonds wurde eingerichtet, um Arbeitnehmer, die unter den Folgen weitreichender Strukturveränderungen im Welthandelsgefüge zu leiden haben, zusätzlich zu unterstützen. Aus dem Fonds werden individuell angepasste Maßnahmen zur beruflichen Wiedereingliederung von Arbeitssuchenden finanziert, Schritte in die Selbständigkeit und Unternehmensgründungen gefördert, Mobilitätsbeihilfen sowie Beihilfen für benachteiligte oder ältere Arbeitnehmer gewährt.,China hat enorme Überkapazitäten bei Solarmodulen aufgebaut, die weder von den eigenen Verbrauchern noch vom Weltmarkt aufgenommen werden können. Zusammen mit dem weltweiten Rückgang der Nachfrage hat dies zu einem Preisverfall geführt. Da China ca. 80% seiner Produktion zu billigen Preisen nach Europa exportiert, war die Nachfrage nach China-Produkten größer als nach denen der deutschen Firma Aleo Solar. Dadurch lassen sich die 615 Entlassungen der Arbeitsgemeinschaft sowie zwei ihrer Tochtergesellschaften erklären.,Es ist deshalb erfreulich, dass die EU dem Antrag Deutschlands stattgegeben hat und Mittel zur Unterstützung der entlassenen Arbeitskräfte zur Verfügung stellt, in der Hoffnung, diesen durch die ergriffenen Maßnahmen zu dauerhaften, langfristigen und damit stabilen Beschäftigungsverhältnissen zu verhelfen.\"'"
      ]
     },
     "execution_count": 7,
     "metadata": {},
     "output_type": "execute_result"
    }
   ],
   "source": [
    "text_rdd.filter(lambda x: 'Deutschland' in x).first()"
   ]
  },
  {
   "cell_type": "code",
   "execution_count": 8,
   "metadata": {
    "collapsed": true
   },
   "outputs": [],
   "source": [
    "germany = text_rdd.filter(lambda x: 'Deutschland' in x)"
   ]
  },
  {
   "cell_type": "code",
   "execution_count": 9,
   "metadata": {
    "collapsed": true
   },
   "outputs": [],
   "source": [
    "merkel = text_rdd.filter(lambda x: 'Merkel' in x)"
   ]
  },
  {
   "cell_type": "code",
   "execution_count": 10,
   "metadata": {
    "collapsed": true
   },
   "outputs": [],
   "source": [
    "de_merkel = germany.union(merkel)"
   ]
  },
  {
   "cell_type": "code",
   "execution_count": 11,
   "metadata": {
    "collapsed": false
   },
   "outputs": [
    {
     "data": {
      "text/plain": [
       "UnionRDD[8] at union at NativeMethodAccessorImpl.java:-2"
      ]
     },
     "execution_count": 11,
     "metadata": {},
     "output_type": "execute_result"
    }
   ],
   "source": [
    "de_merkel"
   ]
  },
  {
   "cell_type": "code",
   "execution_count": 12,
   "metadata": {
    "collapsed": false
   },
   "outputs": [
    {
     "data": {
      "text/plain": [
       "890"
      ]
     },
     "execution_count": 12,
     "metadata": {},
     "output_type": "execute_result"
    }
   ],
   "source": [
    "de_merkel.count()"
   ]
  },
  {
   "cell_type": "code",
   "execution_count": 13,
   "metadata": {
    "collapsed": false
   },
   "outputs": [],
   "source": [
    "de_merkel = de_merkel.persist()"
   ]
  },
  {
   "cell_type": "code",
   "execution_count": 14,
   "metadata": {
    "collapsed": true
   },
   "outputs": [],
   "source": [
    "pairs = de_merkel.map(lambda s: (s, 1))\n",
    "counts = pairs.reduceByKey(lambda a, b: a + b)"
   ]
  },
  {
   "cell_type": "code",
   "execution_count": 15,
   "metadata": {
    "collapsed": false
   },
   "outputs": [
    {
     "data": {
      "text/plain": [
       "[('\"Frau von Storch! Ich habe gesagt, dass es jetzt vor allem einmal um Kriegsflüchtlinge geht. Da war ich wirklich froh. Frau Merkel ist nicht von meiner Partei, und ich habe oft viel Kritik an ihr. Aber in dem Fall, als sie gesagt hat, dass in Deutschland Flüchtlinge aus Syrien nicht mehr nach Ungarn oder sonst wohin zurückgeschickt werden – das war richtig und gut. Und ich bin froh, dass auch mein Heimatland das endlich gemacht hat.,Um Kriegsflüchtlinge geht es hier, und für die brauchen wir Platz, für die brauchen wir tatsächlich auch Unterstützung. Aber Armutsflüchtlinge – wie viele sind denn aus Europa weggegangen, vor schrecklicher Armut aus Irland, auch aus meinem Land, auch aus Deutschland anderswohin geflüchtet, als die Zeiten schlecht waren? Dazu müssen wir auch beitragen, dass vor Ort Welthandelsstrukturen und ähnliches geändert werden, dass Menschen nicht mehr fliehen müssen. Aber wenn jemand flieht vor Klimakatastrophen, die wir mit verursachen, vor Armut, die wir mit verursachen, weil wir nicht genügend zahlen für Rohstoffe, dann muss man auch hier genau hinschauen und sehen, ob diese Leute daheim überhaupt überleben können oder nicht, oder ob sie nicht auch bei uns ein Recht haben zu leben.\"',\n",
       "  2),\n",
       " ('\"Ich habe heute für den Bericht über bildungs- und ausbildungspolitische Maßnahmen zum Abbau der Jugendarbeitslosigkeit gestimmt. Ein besonderes Augenmerk möchte ich als Europaabgeordneter der Familien-Partei Deutschlands dabei auf eine Zielgruppe lenken: Junge Mütter. Ihre Anliegen, wenn es um einen Start oder eine Rückkehr in den Arbeitsmarkt geht, müssen durch eine spezielle „skill policy“ gefördert werden, die auch die „skills“ sieht, anerkennt und grenzübergreifend vergleichbar macht, die Mütter und Väter in Erziehungszeit erwerben.\"',\n",
       "  1),\n",
       " ('\"– MrPresident, the EU is pandering to a country which is sliding ever closer to barbarism. The fact that this project is bribing Turkey with EUR2.2billion of EU taxpayers’ money, in a desperate bid to stem the migrant crisis of its own making, is a total political, economic and human disaster.,To stem this migration, the EU was willing to bend over backwards and ignore the war on the Kurds, the smuggling of oil from ISIS and the continual destruction of human rights in Turkey. Instead of dealing with the real issues of the Schengen zone and MsMerkel’s insane open doors policy, the EU is choosing to believe that a coup was attempted, when in reality it was set up by the Turkish Government to crack down on internal dissent.,I am only glad that we in the UK are getting out of the EU while we can, because this policy is madness. The cowardly, self-delusionary posturing of the EU towards Turkey is an utter disaster, and the accession process must end soon. It is an offence against both human rights and democracy. You are simply enabling a totalitarian regime, MsMogherini. Halt all talks now and stop giving bribes to them.\"',\n",
       "  1),\n",
       " ('\"Die Bewältigung des Flüchtlingsansturms auf Europa ist eine Aufgabe, die weder Deutschland, noch Ungarn, Dänemark oder Griechenland auf sich allein gestellt lösen kann. Die letzten Wochen haben gezeigt, dass nationale Alleingänge einzelner Mitgliedstaaten nur ins Chaos führen, gegenseitige Schuldzuweisungen bringen uns keinen Schritt weiter. Nur mit gemeinsamen europäischen Ansätzen können Lösungen erreicht werden. Kommissionspräsident Juncker hat richtigerweise an unsere gemeinsame humanitäre Verpflichtung zur Aufnahme von Menschen, die aus Angst um ihr Leben auf der Flucht sind, erinnert. Es ist dauerhaft nicht hinnehmbar, dass einige Mitgliedstaaten überhaupt keine Hilfe leisten und die Lasten einfach anderen überlassen. Deshalb führt kein Weg an einem Quotenmodell mit einem europäischen Verteilungsschlüssel vorbei. Außerdem müssen die bereits bestehenden Mindeststandards des Gemeinsamen Europäischen Asylsystems, zum Beispiel im Hinblick auf eine ordnungsgemäße Unterbringung und Behandlung der Flüchtlinge, in der gesamten EU wirksam angewendet werden. Um wirklich den Menschen helfen zu können, die unsere Hilfe am nötigsten haben, brauchen wir auch eine einheitliche Definition von sicheren Herkunftsländern in allen Mitgliedstaaten. Es muss allen klar sein, dass Asylanträge aus Ländern mit gefestigten Demokratien, wie etwa den Westbalkanländern, nicht akzeptiert werden können.\"',\n",
       "  1),\n",
       " ('\"Herr Präsident, liebe Kolleginnen und Kollegen, Frau Kommissarin! Normalerweise bin ich sehr stolz auf unsere deutsche Gründlichkeit. Aber in diesem Fall ist die deutsche Regierung weit über das Ziel hinausgeschossen mit ihrer Detailversessenheit. Es ist tatsächlich so, dass ich überhaupt nicht gegen Mindestlöhne als solche bin. Das hat die Frau Kommissarin gesagt: Darüber kann jedes Land selber entscheiden, das ist nationale Souveränität – vollkommen okay. In diesem Fall ist es aber das erste Mal – wir sind ja nicht das erste Land, das ein Mindestlohngesetz hat, ganz viele andere hatten es auch schon –, dass der Transportsektor, auch der Transitsektor, so detailversessen beschrieben worden ist, bis dahin – meine Kollegin hat es gesagt –, dass Faxe vorweg auf Deutsch geschickt werden sollen an die deutsche Regierung, die deutschen Behörden, wann genau welches Unternehmen sich wie lange auf deutschem Boden aufhält, und dass man sich versichern soll, dass man den deutschen Mindestlohn bezahlt. Meines Erachtens geht das deutlich übers Ziel hinaus, und es ist auch gegen europäisches Recht.,Die Prüfung ist noch nicht abgeschlossen, das haben Sie gesagt. Aber wie kann man denn für den Binnenmarkt sein, wo wir in den einzelnen Ländern unterschiedliche Lebensbedingungen haben, natürlich auch unterschiedliche Lohnniveaus. Das ist einfach so! Wir wollen auf keinen Fall, dass die LKW-Fahrer schlecht behandelt werden. Da liegt auch vieles im Argen. Das gebe ich genau so zu. Aber meines Erachtens – das hat auch Herr Ujhelyi gesagt, das betrifft auch die Petition und die Demonstration – ist dies der falsche Weg, um dem abzuhelfen. Da müssen wir wirklich anders vorgehen, um bessere Bedingungen für die LKW-Fahrer zu schaffen. Es ist tatsächlich so, dass meines Erachtens Deutschland damit ein Fass aufgemacht hat. Denn es ist das erste Mal, dass eben Logistik und Transport drin ist – eine europäische Politik.,Jetzt hat Frankreich nachgezogen. Frankreich will das jetzt genauso machen. Wenn andere Länder dazukommen, was soll denn dann bitte ein Spediteur machen, der durch fünf verschiedene Länder fährt? In Polen ist der Lohn relativ niedrig, bei 1,95 Euro oder auch ein bisschen mehr, in Luxemburg 11,10 Euro, in Frankreich 9,61 Euro, in Deutschland 8,50 Euro. Wie soll man das auseinanderdröseln, und wer soll das auch kontrollieren? Meines Erachtens geht das in diesem Fall ganz klar am Ziel, die Leute besserzustellen, vorbei und absolut gegen Europa und gegen den Binnenmarkt. Das können wir meines Erachtens überhaupt nicht dulden. Als Letztes: Ich befürchte auch, dass kleine mittelständische Unternehmen, die wir immer schützen wollen, nun gerade aufgeben müssen und Arbeitsplätzen verlustig gehen. Das ist auch nicht Europas Wille!\"',\n",
       "  1),\n",
       " ('\"In einer Situation, in der reiche Staaten wie Deutschland ihre Rentensysteme mittel- und langfristig nicht mehr finanzieren werden können, sind deutliche Reformschritte nötig. Statt wie Wolfgang Schäuble über die Erhöhung des Rentenalters nachzudenken, fordert ALFA eine detaillierte Überprüfung der Haushaltsausgaben, einschließlich des deutschen Beitrags in den EU-Haushalt.,ALFA setzt sich für einen effizienteren EU-Haushalt ein und wendet sich entschieden gegen die Verschwendung von Steuergeldern, die auf nationalstaatlicher ähnlich wie auf der EU-Ebene ein großes Problem ist. Eine solche Einstellung erwartet ALFA von dem ganzen Europaparlament, das die Entlastung zum EU-Budget erteilt.,Da die Entwürfe des Ausschusses für Haushaltskontrolle generell eine Reform des EU-Budgets nicht deutlich genug gefordert hatten, habe ich gegen die Entlastung bei den meisten EU-Haushaltslinien gestimmt. Dies betraf auch die Entlastung zum Gemeinsamen Unternehmen SESAR.\"',\n",
       "  2),\n",
       " ('\"In einer Situation, in der reiche Staaten wie Deutschland ihre Rentensysteme mittel- und langfristig nicht mehr finanzieren werden können, sind rasante Reformschritte nötig. Statt wie Wolfgang Schäuble über die Erhöhung des Rentenalters nachzudenken, fordert ALFA eine detaillierte Überprüfung der Haushaltsausgaben, einschließlich des deutschen Beitrags in den EU-Haushalt.,ALFA setzt sich für einen effizienteren EU-Haushalt ein und wendet sich entschieden gegen die Verschwendung von Steuergeldern, die auf nationalstaatlicher ähnlich wie auf der EU-Ebene ein großes Problem ist. Eine solche Einstellung erwartet ALFA vom ganzen Europäischen Parlament, das die Entlastung zum EU-Budget erteilt.,Da die Entwürfe des Ausschusses für Haushaltskontrolle generell eine Reform des EU-Budgets nicht stark genug gefordert hatten, habe ich gegen die Entlastung bei den meisten EU-Haushaltslinien gestimmt. Dies betraf auch die Entlastung zum Gemeinsamen Unternehmen Clean Sky.\"',\n",
       "  1),\n",
       " ('Ich habe heute für den Einwand gemäß Artikel 106: Genehmigung genetisch veränderter Sojabohnen der Sorte MON 87708 × MON 89788 gestimmt. Die Familien-Partei Deutschlands ist gegen den Einsatz gentechnisch manipulierten Saatgutes in der Landwirtschaft.',\n",
       "  2),\n",
       " ('\"Frau Präsidentin! Herr Pittella sprach eben davon, dass er sich wie in einem Film vorkäme. Ja, das gilt auch für mich. Nur habe ich das Gefühl, wir wären mitten in einem Filmriss und dieselben Szenen würden immer wieder vorgeführt. Genau diesen Eindruck habe ich. Das habe ich schon so oft in diesem Parlament gehört, diese Beschwörung dessen, was man tun muss. Ich sage ihnen: Wenn Herr Moscovici sagt, was Griechenland alles tun muss, das ist ein Entmündigungsprogramm! Und dann sagt er: Jetzt kommt Wachstum, jetzt kommen Investitionen, jetzt kommt Wettbewerbsfähigkeit. Nein, nichts davon kommt! Der Economist hat festgestellt: \"\",\"\". Schauen Sie doch mal die Statistiken nach! Warum ist in Deutschland die Zahl der Arbeitslosen von zehn Prozent auf fünf Prozent zurückgegangen, warum ist im Süden der Eurozone die Arbeitslosigkeit von zehn Prozent auf fünfzehn und mehr Prozent angestiegen? Weil der Euro ein falscher relativer Preis ist. Das ist alles! Man muss da ansetzen! Aber dieses Parlament geht nicht die Probleme an, sondern tanzt um das Goldene Kalb des Euro, ohne die Probleme in den Griff bekommen zu wollen.\"',\n",
       "  1),\n",
       " ('\"Frau Präsidentin! 1997 habe ich mit der damaligen Umweltministerin Angela Merkel die Umweltkonferenz in Kyoto besucht, und wir haben uns damals beide für spezifische und nicht für absolute CO2-Ziele eingesetzt. Inzwischen will Frau Merkel das Weltklima retten. Sie ist überhaupt beim Retten: Sie will den Euro retten, sie will Griechenland retten – gleich dreimal, sie will die Banken retten durch die Europäische Bankenunion zu Lasten der deutschen Sparkassen, und jetzt will sie die Weltflüchtlinge retten. Meine Damen und Herren! Immer mehr ausländische Kollegen auch in diesem Gremium zeigen und sagen mir, dass Frau Merkel und die Bundesregierung anscheinend an einem Helfersyndrom leiden. Das muss beendet werden!,Darf ich Ihnen bei dieser Gelegenheit auch nochmal sagen: Am deutschen Wesen soll Europa nicht weiter genesen. Im Übrigen – und das ist mein ceterum censeo – möchte ich darauf aufmerksam machen, dass der Einheitseuro Europa spaltet und abgeschafft werden muss.\"',\n",
       "  1)]"
      ]
     },
     "execution_count": 15,
     "metadata": {},
     "output_type": "execute_result"
    }
   ],
   "source": [
    "counts.take(10)"
   ]
  },
  {
   "cell_type": "code",
   "execution_count": null,
   "metadata": {
    "collapsed": false
   },
   "outputs": [],
   "source": [
    "pairs = de_merkel.flatMap(lambda s: s.split(' ')).map(lambda w: (w, 1)).reduceByKey(lambda a, b: a + b)"
   ]
  },
  {
   "cell_type": "code",
   "execution_count": null,
   "metadata": {
    "collapsed": false
   },
   "outputs": [],
   "source": [
    "pairs.take(4)"
   ]
  },
  {
   "cell_type": "code",
   "execution_count": null,
   "metadata": {
    "collapsed": false
   },
   "outputs": [],
   "source": [
    "pairs.sortBy(lambda k: k[1]).top(10)"
   ]
  },
  {
   "cell_type": "code",
   "execution_count": null,
   "metadata": {
    "collapsed": true
   },
   "outputs": [],
   "source": [
    "import re"
   ]
  },
  {
   "cell_type": "code",
   "execution_count": null,
   "metadata": {
    "collapsed": false
   },
   "outputs": [],
   "source": [
    "pairs = de_merkel.flatMap(lambda s: re.findall('\\w+', s)).map(lambda w: (w, 1)).reduceByKey(lambda a, b: a + b)"
   ]
  },
  {
   "cell_type": "code",
   "execution_count": null,
   "metadata": {
    "collapsed": false
   },
   "outputs": [],
   "source": [
    "my_df = pairs.sortBy(lambda p: p[1]).collect()"
   ]
  },
  {
   "cell_type": "code",
   "execution_count": null,
   "metadata": {
    "collapsed": false
   },
   "outputs": [],
   "source": [
    "my_df"
   ]
  },
  {
   "cell_type": "code",
   "execution_count": null,
   "metadata": {
    "collapsed": false
   },
   "outputs": [],
   "source": [
    "type(my_df)"
   ]
  },
  {
   "cell_type": "code",
   "execution_count": null,
   "metadata": {
    "collapsed": false
   },
   "outputs": [],
   "source": [
    "my_df[-40:]"
   ]
  },
  {
   "cell_type": "code",
   "execution_count": null,
   "metadata": {
    "collapsed": true
   },
   "outputs": [],
   "source": []
  }
 ],
 "metadata": {
  "kernelspec": {
   "display_name": "Python 3",
   "language": "python",
   "name": "python3"
  },
  "language_info": {
   "codemirror_mode": {
    "name": "ipython",
    "version": 3
   },
   "file_extension": ".py",
   "mimetype": "text/x-python",
   "name": "python",
   "nbconvert_exporter": "python",
   "pygments_lexer": "ipython3",
   "version": "3.4.4"
  }
 },
 "nbformat": 4,
 "nbformat_minor": 0
}
