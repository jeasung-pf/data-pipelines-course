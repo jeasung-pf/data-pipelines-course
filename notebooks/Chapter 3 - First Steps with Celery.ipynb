{
 "cells": [
  {
   "cell_type": "code",
   "execution_count": 1,
   "metadata": {
    "collapsed": true
   },
   "outputs": [],
   "source": [
    "import sys"
   ]
  },
  {
   "cell_type": "code",
   "execution_count": 2,
   "metadata": {
    "collapsed": true
   },
   "outputs": [],
   "source": [
    "sys.path.append('/var/www/pipelines/celery_app')"
   ]
  },
  {
   "cell_type": "code",
   "execution_count": 3,
   "metadata": {
    "collapsed": true
   },
   "outputs": [],
   "source": [
    "from datetime import datetime"
   ]
  },
  {
   "cell_type": "code",
   "execution_count": 4,
   "metadata": {
    "collapsed": true
   },
   "outputs": [],
   "source": [
    "from tasks import get_stock_info"
   ]
  },
  {
   "cell_type": "code",
   "execution_count": 5,
   "metadata": {
    "collapsed": true
   },
   "outputs": [],
   "source": [
    "res = get_stock_info.delay('FB', datetime(2016, 1, 1), datetime.today())"
   ]
  },
  {
   "cell_type": "code",
   "execution_count": 6,
   "metadata": {
    "collapsed": false
   },
   "outputs": [
    {
     "data": {
      "text/plain": [
       "'STARTED'"
      ]
     },
     "execution_count": 6,
     "metadata": {},
     "output_type": "execute_result"
    }
   ],
   "source": [
    "res.status"
   ]
  },
  {
   "cell_type": "code",
   "execution_count": 7,
   "metadata": {
    "collapsed": false
   },
   "outputs": [
    {
     "data": {
      "text/plain": [
       "'{\"Close min\":{\"FB\":94.160004},\"Close max\":{\"FB\":125.260002},\"Close mean\":{\"FB\":112.8609373937},\"Close median\":{\"FB\":113.9300005},\"Open min\":{\"FB\":92.830002},\"Open max\":{\"FB\":127.519997},\"Open mean\":{\"FB\":112.8902501312},\"Open median\":{\"FB\":113.8500025},\"Adj Close min\":{\"FB\":94.160004},\"Adj Close max\":{\"FB\":125.260002},\"Adj Close mean\":{\"FB\":112.8609373937},\"Adj Close median\":{\"FB\":113.9300005},\"Low min\":{\"FB\":89.370003},\"Low max\":{\"FB\":124.75},\"Low mean\":{\"FB\":111.5968122063},\"Low median\":{\"FB\":112.959999},\"High min\":{\"FB\":95.0},\"High max\":{\"FB\":128.330002},\"High mean\":{\"FB\":113.9396873375},\"High median\":{\"FB\":114.7299995}}'"
      ]
     },
     "execution_count": 7,
     "metadata": {},
     "output_type": "execute_result"
    }
   ],
   "source": [
    "res.get()"
   ]
  },
  {
   "cell_type": "code",
   "execution_count": 8,
   "metadata": {
    "collapsed": true
   },
   "outputs": [],
   "source": [
    "res = get_stock_info.apply_async(('FB', datetime(2016, 1, 1), datetime.today()), queue='priority')"
   ]
  },
  {
   "cell_type": "code",
   "execution_count": 9,
   "metadata": {
    "collapsed": false
   },
   "outputs": [
    {
     "data": {
      "text/plain": [
       "'{\"Open min\":{\"FB\":92.830002},\"Open max\":{\"FB\":127.519997},\"Open mean\":{\"FB\":112.8902501312},\"Open median\":{\"FB\":113.8500025},\"Close min\":{\"FB\":94.160004},\"Close max\":{\"FB\":125.260002},\"Close mean\":{\"FB\":112.8609373937},\"Close median\":{\"FB\":113.9300005},\"Low min\":{\"FB\":89.370003},\"Low max\":{\"FB\":124.75},\"Low mean\":{\"FB\":111.5968122063},\"Low median\":{\"FB\":112.959999},\"Adj Close min\":{\"FB\":94.160004},\"Adj Close max\":{\"FB\":125.260002},\"Adj Close mean\":{\"FB\":112.8609373937},\"Adj Close median\":{\"FB\":113.9300005},\"High min\":{\"FB\":95.0},\"High max\":{\"FB\":128.330002},\"High mean\":{\"FB\":113.9396873375},\"High median\":{\"FB\":114.7299995}}'"
      ]
     },
     "execution_count": 9,
     "metadata": {},
     "output_type": "execute_result"
    }
   ],
   "source": [
    "res.get()"
   ]
  },
  {
   "cell_type": "code",
   "execution_count": 10,
   "metadata": {
    "collapsed": true
   },
   "outputs": [],
   "source": [
    "from tasks import get_stock_info, price_range, determine_buy, sort_results"
   ]
  },
  {
   "cell_type": "code",
   "execution_count": 11,
   "metadata": {
    "collapsed": true
   },
   "outputs": [],
   "source": [
    "from celery import chain, group, chord"
   ]
  },
  {
   "cell_type": "code",
   "execution_count": 12,
   "metadata": {
    "collapsed": true
   },
   "outputs": [],
   "source": [
    "start = datetime(2016, 1, 1)"
   ]
  },
  {
   "cell_type": "code",
   "execution_count": 13,
   "metadata": {
    "collapsed": true
   },
   "outputs": [],
   "source": [
    "end = datetime.today()"
   ]
  },
  {
   "cell_type": "code",
   "execution_count": 14,
   "metadata": {
    "collapsed": true
   },
   "outputs": [],
   "source": [
    "my_chain = chain(price_range.s('FB', start, end), determine_buy.s())"
   ]
  },
  {
   "cell_type": "code",
   "execution_count": 15,
   "metadata": {
    "collapsed": false
   },
   "outputs": [
    {
     "data": {
      "text/plain": [
       "tasks.price_range('FB', datetime.datetime(2016, 1, 1, 0, 0), datetime.datetime(2016, 8, 22, 13, 26, 38, 292856)) | tasks.determine_buy()"
      ]
     },
     "execution_count": 15,
     "metadata": {},
     "output_type": "execute_result"
    }
   ],
   "source": [
    "my_chain"
   ]
  },
  {
   "cell_type": "code",
   "execution_count": 16,
   "metadata": {
    "collapsed": true
   },
   "outputs": [],
   "source": [
    "res = my_chain()"
   ]
  },
  {
   "cell_type": "code",
   "execution_count": 17,
   "metadata": {
    "collapsed": false
   },
   "outputs": [
    {
     "data": {
      "text/plain": [
       "<AsyncResult: 83770b43-3ae1-4a85-9066-3426ee482b94>"
      ]
     },
     "execution_count": 17,
     "metadata": {},
     "output_type": "execute_result"
    }
   ],
   "source": [
    "res"
   ]
  },
  {
   "cell_type": "code",
   "execution_count": 18,
   "metadata": {
    "collapsed": false
   },
   "outputs": [
    {
     "data": {
      "text/plain": [
       "'SUCCESS'"
      ]
     },
     "execution_count": 18,
     "metadata": {},
     "output_type": "execute_result"
    }
   ],
   "source": [
    "res.status"
   ]
  },
  {
   "cell_type": "code",
   "execution_count": 19,
   "metadata": {
    "collapsed": false
   },
   "outputs": [
    {
     "data": {
      "text/plain": [
       "False"
      ]
     },
     "execution_count": 19,
     "metadata": {},
     "output_type": "execute_result"
    }
   ],
   "source": [
    "res.get()"
   ]
  },
  {
   "cell_type": "code",
   "execution_count": 20,
   "metadata": {
    "collapsed": true
   },
   "outputs": [],
   "source": [
    "my_stocks = ['FB', 'GOOG', 'IBM']"
   ]
  },
  {
   "cell_type": "code",
   "execution_count": 21,
   "metadata": {
    "collapsed": true
   },
   "outputs": [],
   "source": [
    "my_group = group(get_stock_info.s(stk, start, end) for stk in my_stocks)"
   ]
  },
  {
   "cell_type": "code",
   "execution_count": 22,
   "metadata": {
    "collapsed": false
   },
   "outputs": [
    {
     "data": {
      "text/plain": [
       "[tasks.get_stock_info('FB', datetime.datetime(2016, 1, 1, 0, 0), datetime.datetime(2016, 8, 22, 13, 26, 38, 292856)), tasks.get_stock_info('GOOG', datetime.datetime(2016, 1, 1, 0, 0), datetime.datetime(2016, 8, 22, 13, 26, 38, 292856)), tasks.get_stock_info('IBM', datetime.datetime(2016, 1, 1, 0, 0), datetime.datetime(2016, 8, 22, 13, 26, 38, 292856))]"
      ]
     },
     "execution_count": 22,
     "metadata": {},
     "output_type": "execute_result"
    }
   ],
   "source": [
    "my_group"
   ]
  },
  {
   "cell_type": "code",
   "execution_count": 23,
   "metadata": {
    "collapsed": true
   },
   "outputs": [],
   "source": [
    "res = my_group()"
   ]
  },
  {
   "cell_type": "code",
   "execution_count": 24,
   "metadata": {
    "collapsed": false
   },
   "outputs": [
    {
     "data": {
      "text/plain": [
       "<GroupResult: ad8c46f7-4032-4028-a563-c44391ab400e [7089d1ed-9335-4002-9de4-544e4b899cff, 5840e896-9b8e-48ff-b6fa-a67ad1ca9212, 4762aa4c-c1ae-475d-94af-6afbe7a3ae66]>"
      ]
     },
     "execution_count": 24,
     "metadata": {},
     "output_type": "execute_result"
    }
   ],
   "source": [
    "res"
   ]
  },
  {
   "cell_type": "code",
   "execution_count": 25,
   "metadata": {
    "collapsed": false
   },
   "outputs": [
    {
     "data": {
      "text/plain": [
       "['{\"Low min\":{\"FB\":89.370003},\"Low max\":{\"FB\":124.75},\"Low mean\":{\"FB\":111.5968122063},\"Low median\":{\"FB\":112.959999},\"High min\":{\"FB\":95.0},\"High max\":{\"FB\":128.330002},\"High mean\":{\"FB\":113.9396873375},\"High median\":{\"FB\":114.7299995},\"Open min\":{\"FB\":92.830002},\"Open max\":{\"FB\":127.519997},\"Open mean\":{\"FB\":112.8902501312},\"Open median\":{\"FB\":113.8500025},\"Close min\":{\"FB\":94.160004},\"Close max\":{\"FB\":125.260002},\"Close mean\":{\"FB\":112.8609373937},\"Close median\":{\"FB\":113.9300005},\"Adj Close min\":{\"FB\":94.160004},\"Adj Close max\":{\"FB\":125.260002},\"Adj Close mean\":{\"FB\":112.8609373937},\"Adj Close median\":{\"FB\":113.9300005}}',\n",
       " '{\"Open min\":{\"GOOG\":667.849976},\"Open max\":{\"GOOG\":785.0},\"Open mean\":{\"GOOG\":724.2199360063},\"Open median\":{\"GOOG\":722.4649965},\"Close min\":{\"GOOG\":668.26001},\"Close max\":{\"GOOG\":784.849976},\"Close mean\":{\"GOOG\":724.18143845},\"Close median\":{\"GOOG\":719.6299745},\"Low min\":{\"GOOG\":663.059998},\"Low max\":{\"GOOG\":782.969971},\"Low mean\":{\"GOOG\":717.8580696687},\"Low median\":{\"GOOG\":716.169983},\"Adj Close min\":{\"GOOG\":668.26001},\"Adj Close max\":{\"GOOG\":784.849976},\"Adj Close mean\":{\"GOOG\":724.18143845},\"Adj Close median\":{\"GOOG\":719.6299745},\"High min\":{\"GOOG\":672.299988},\"High max\":{\"GOOG\":789.869995},\"High mean\":{\"GOOG\":730.2307738688},\"High median\":{\"GOOG\":725.828003}}',\n",
       " '{\"Low min\":{\"IBM\":116.900002},\"Low max\":{\"IBM\":162.179993},\"Low mean\":{\"IBM\":144.4778746625},\"Low median\":{\"IBM\":147.3549955},\"High min\":{\"IBM\":119.660004},\"High max\":{\"IBM\":164.949997},\"High mean\":{\"IBM\":146.7556872938},\"High median\":{\"IBM\":149.774994},\"Open min\":{\"IBM\":118.459999},\"Open max\":{\"IBM\":163.190002},\"Open mean\":{\"IBM\":145.5231246875},\"Open median\":{\"IBM\":148.4449995},\"Close min\":{\"IBM\":117.849998},\"Close max\":{\"IBM\":163.529999},\"Close mean\":{\"IBM\":145.7649376375},\"Close median\":{\"IBM\":148.4800035},\"Adj Close min\":{\"IBM\":115.72409},\"Adj Close max\":{\"IBM\":163.529999},\"Adj Close mean\":{\"IBM\":143.7099821812},\"Adj Close median\":{\"IBM\":146.422927}}']"
      ]
     },
     "execution_count": 25,
     "metadata": {},
     "output_type": "execute_result"
    }
   ],
   "source": [
    "res.get()"
   ]
  },
  {
   "cell_type": "code",
   "execution_count": 26,
   "metadata": {
    "collapsed": true
   },
   "outputs": [],
   "source": [
    "header = (price_range.subtask((stk, start, end)) for stk in my_stocks)"
   ]
  },
  {
   "cell_type": "code",
   "execution_count": 27,
   "metadata": {
    "collapsed": true
   },
   "outputs": [],
   "source": [
    "callback = sort_results.subtask()"
   ]
  },
  {
   "cell_type": "code",
   "execution_count": 28,
   "metadata": {
    "collapsed": false
   },
   "outputs": [
    {
     "name": "stdout",
     "output_type": "stream",
     "text": [
      "1 loop, best of 3: 1.08 s per loop\n"
     ]
    }
   ],
   "source": [
    "%timeit chord(header)(callback).get()"
   ]
  },
  {
   "cell_type": "code",
   "execution_count": 29,
   "metadata": {
    "collapsed": false
   },
   "outputs": [
    {
     "name": "stdout",
     "output_type": "stream",
     "text": [
      "The slowest run took 34.82 times longer than the fastest. This could mean that an intermediate result is being cached.\n",
      "10000 loops, best of 3: 67.9 µs per loop\n"
     ]
    }
   ],
   "source": [
    "%timeit sort_results(group(header)().get())"
   ]
  },
  {
   "cell_type": "code",
   "execution_count": null,
   "metadata": {
    "collapsed": true
   },
   "outputs": [],
   "source": []
  }
 ],
 "metadata": {
  "kernelspec": {
   "display_name": "Python 3",
   "language": "python",
   "name": "python3"
  },
  "language_info": {
   "codemirror_mode": {
    "name": "ipython",
    "version": 3
   },
   "file_extension": ".py",
   "mimetype": "text/x-python",
   "name": "python",
   "nbconvert_exporter": "python",
   "pygments_lexer": "ipython3",
   "version": "3.4.2"
  }
 },
 "nbformat": 4,
 "nbformat_minor": 1
}
