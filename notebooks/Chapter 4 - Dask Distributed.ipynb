{
 "cells": [
  {
   "cell_type": "code",
   "execution_count": null,
   "metadata": {
    "collapsed": true
   },
   "outputs": [],
   "source": [
    "from dask import do\n",
    "from distributed import LocalCluster, Executor\n",
    "from configparser import ConfigParser\n",
    "import requests\n",
    "import numpy as np"
   ]
  },
  {
   "cell_type": "markdown",
   "metadata": {},
   "source": [
    "You must have a folder `config` in the parent directory or current directory or simply modify the `get_config` method. You will also need to [acquire an API Key for the OpenWeatherMap API](http://openweathermap.org/appid). Your `prod.cfg` file in the aforementioned `config` folder should have a section like so:\n",
    "\n",
    "```\n",
    "[openweather]\n",
    "api_key=425b9b9e2416cjfr47329434jk2lX4u32\n",
    "```\n",
    "with your assigned key from OpenWeatherMap."
   ]
  },
  {
   "cell_type": "code",
   "execution_count": null,
   "metadata": {
    "collapsed": false
   },
   "outputs": [],
   "source": [
    "def get_current(location_str, config):\n",
    "    '''Get latest temperature data from openweather\n",
    "    params:\n",
    "        location_str: string with city,country_code\n",
    "        config: ConfigParser object with openweather section and api_key key\n",
    "    returns:\n",
    "        tuple: (location_str, parsed json response)    \n",
    "    '''\n",
    "    weather_key = config.get('openweather', 'api_key')\n",
    "    resp = requests.get('http://api.openweathermap.org/data/2.5/weather',       \n",
    "                        params={'q': location_str, \n",
    "                                'appid': weather_key, \n",
    "                                'units': 'metric'}) \n",
    "    return location_str, resp.json()\n",
    "   "
   ]
  },
  {
   "cell_type": "code",
   "execution_count": null,
   "metadata": {
    "collapsed": true
   },
   "outputs": [],
   "source": [
    "def get_forecast(location_str, config):\n",
    "    '''Get forecast temperature data from openweather\n",
    "    params:\n",
    "        location_str: string with city,country_code\n",
    "        config: ConfigParser object with openweather section and api_key key\n",
    "    returns:\n",
    "        tuple: (location_str, parsed json response)\n",
    "    '''\n",
    "    weather_key = config.get('openweather', 'api_key')\n",
    "    resp = requests.get('http://api.openweathermap.org/data/2.5/forecast',       \n",
    "                        params={'q': location_str, \n",
    "                                'appid': weather_key,        \n",
    "                                'units': 'metric'})\n",
    "    return location_str, resp.json()"
   ]
  },
  {
   "cell_type": "code",
   "execution_count": null,
   "metadata": {
    "collapsed": true
   },
   "outputs": [],
   "source": [
    "def filter_temp(location_str, weather_json):\n",
    "    '''Filter out just the city, temperature, and humidity in forecast or current weather data.\n",
    "    params:\n",
    "        location_str: string with city,country_code\n",
    "        weather_json: json returned from get_forecast or get_current \n",
    "    returns:\n",
    "        dict: containing city names and either list of forecast temps and humidity or current temp and humidity\n",
    "    '''\n",
    "    if 'cod' in weather_json.keys() and int(weather_json['cod']) != 200:\n",
    "        raise ValueError('Bad Data Returned from API: {} - {}'.format(\n",
    "                location_str, weather_json))\n",
    "    try:\n",
    "        api_city_str = '{},{}'.format(weather_json['name'], weather_json['sys']['country'])\n",
    "    except KeyError:\n",
    "        api_city_str = '{},{}'.format(weather_json['city']['name'], weather_json['city']['country'])\n",
    "    resp = {\n",
    "             'search_city': location_str,\n",
    "             'api_city': api_city_str,\n",
    "    }\n",
    "    if 'main' in weather_json.keys():\n",
    "        resp['current_temp'] = weather_json['main']['temp']\n",
    "        resp['current_humidity'] = weather_json['main']['humidity']\n",
    "    else:\n",
    "        resp['forecast_temps'] = [fr['main']['temp'] for fr in weather_json['list']]\n",
    "        resp['forecast_humidity'] = [fr['main']['humidity'] for fr in weather_json['list']]\n",
    "    return resp"
   ]
  },
  {
   "cell_type": "code",
   "execution_count": null,
   "metadata": {
    "collapsed": true
   },
   "outputs": [],
   "source": [
    "def merge_data(latest, forecast):\n",
    "    ''' Merge data from current and forecast dictionaries and avg forecasts\n",
    "    params:\n",
    "        latest: filtered dictionary from get_latest\n",
    "        forecast: filtered dictionary from get_forecast\n",
    "    returns:\n",
    "        dict: merged dict with additional mean for forecasts\n",
    "    '''\n",
    "    final = latest.copy()\n",
    "    final.update(forecast)\n",
    "    mean_tmp, mean_hum = np.mean(forecast['forecast_temps']), np.mean(forecast['forecast_humidity'])\n",
    "    final['mean_temp'] = np.round(mean_tmp, 2)\n",
    "    final['mean_hum'] = np.round(mean_hum, 2)\n",
    "    return final"
   ]
  },
  {
   "cell_type": "code",
   "execution_count": null,
   "metadata": {
    "collapsed": true
   },
   "outputs": [],
   "source": [
    "def main(city):\n",
    "    ''' Main function which will take city names and return a final dataset for each city\n",
    "    params:\n",
    "        city: string (ex: 'Berlin,DE')\n",
    "    returns:\n",
    "        dict: current and forecast temps and humidities for given city\n",
    "    '''\n",
    "    config = get_config()\n",
    "    city_str, weather_data = get_current(city, config)\n",
    "    latest = filter_temp(city_str, weather_data)\n",
    "    city_str, weather_data = get_forecast(city, config)\n",
    "    forecast = filter_temp(city_str, weather_data)\n",
    "    final = merge_data(latest, forecast)\n",
    "    return final"
   ]
  },
  {
   "cell_type": "code",
   "execution_count": 1,
   "metadata": {
    "collapsed": true
   },
   "outputs": [],
   "source": [
    "def get_config():\n",
    "    ''' returns config '''\n",
    "    config = ConfigParser()\n",
    "    config.read(['../config/prod.cfg', 'config/prod.cfg'])\n",
    "    return config"
   ]
  },
  {
   "cell_type": "code",
   "execution_count": null,
   "metadata": {
    "collapsed": true
   },
   "outputs": [],
   "source": [
    "city_list = ['London,UK', 'Berlin,DE', 'NewYork,NY', \n",
    "             'LosAngeles,CA', 'Madrid,ES', 'Bangkok,TH', \n",
    "             'Baghdad,IQ', 'Auckland,NZ', 'Istanbul,TR',\n",
    "             'MexicoCity,MX', 'Primavera,CL', 'KualaLumpur,MY',\n",
    "             'Shanghai,CN', 'Chicago,IL', 'Rome,IT', 'Nairobi,KE',\n",
    "             'MachuPicchu,PE', 'Cardiff,UK', 'Somewhere,WL']"
   ]
  },
  {
   "cell_type": "code",
   "execution_count": null,
   "metadata": {
    "collapsed": false
   },
   "outputs": [],
   "source": [
    "%%time\n",
    "res = []\n",
    "for city in city_list:\n",
    "    try:\n",
    "        final = main(city)\n",
    "        res.append(final)\n",
    "    except Exception as e:\n",
    "        print(city, e)\n",
    "\n",
    "print('sorted by current temp: ', sorted(res, key=lambda x: x.get('current_temp'), reverse=True))\n",
    "print('sorted by upcoming forecast temp: ', sorted(res, key=lambda x: x.get('mean_temp'), reverse=True))"
   ]
  },
  {
   "cell_type": "markdown",
   "metadata": {},
   "source": [
    "Depending on your setup the `start_diagnostics_server` which starts the web UI for analyzing your Dask scheduler and work via the Executor may or may not work. If it doesn't work out of the box, you'll need to start the dask-scheduler a different way. Easiest is using:\n",
    "\n",
    "`/path/to/your/virtualenv/bin/dask-scheduler`\n",
    "\n",
    "which will start the scheduler process in your terminal as well as the Bokeh server for the web UI. The output should have the links for both the web UI (usually [localhost:8787](http://127.0.0.1:8787)) as well as the local scheduler. \n",
    "\n",
    "In a new shell or screen session, run the worker nodes with however many workers you'd like (here I chose 8):\n",
    "\n",
    "`/path/to/your/virtualenv/bin/dask-worker --nprocs 8 127.0.0.1:8786`\n",
    "\n",
    "I recommend using [`screen`](https://www.gnu.org/software/screen/) so you can easily switch between shells and keep track of logs. Once installed, you can create a new named screen like so: `screen -S scheduler`, use ctl + a followed by d to detach back to your main shell and ctl + a followed by k to kill the screen session when you are done. To reattach to a running named screen you can use `screen -r scheduler`. Read through the docs for more info. \n",
    "\n",
    "Then you can utilize the code directly below this cell instead of the `LocalCluster` code two cells below."
   ]
  },
  {
   "cell_type": "code",
   "execution_count": null,
   "metadata": {
    "collapsed": false
   },
   "outputs": [],
   "source": [
    "exc = Executor('127.0.0.1:8786') # You may want to change this to the exact IP shown when you ran dask-scheduler"
   ]
  },
  {
   "cell_type": "code",
   "execution_count": null,
   "metadata": {
    "collapsed": false
   },
   "outputs": [],
   "source": [
    "lc = LocalCluster()\n",
    "lc.start_diagnostics_server() \n",
    "exc = Executor(lc)"
   ]
  },
  {
   "cell_type": "code",
   "execution_count": null,
   "metadata": {
    "collapsed": false
   },
   "outputs": [],
   "source": [
    "%%time\n",
    "\n",
    "futures = [e.submit(main, i) for i in city_list]\n",
    "print(futures)\n",
    "print('sorted by current temp', \n",
    "      sorted([f.result() for f in futures if f.status != 'error'], \n",
    "             key=lambda x: x['current_temp'], reverse=True))\n",
    "print('sorted by forecast temp', \n",
    "      sorted([f.result() for f in futures if f.status != 'error'], \n",
    "             key=lambda x: x['mean_temp'], reverse=True))"
   ]
  },
  {
   "cell_type": "code",
   "execution_count": null,
   "metadata": {
    "collapsed": false
   },
   "outputs": [],
   "source": [
    "example_error = futures[-1]"
   ]
  },
  {
   "cell_type": "code",
   "execution_count": null,
   "metadata": {
    "collapsed": false
   },
   "outputs": [],
   "source": [
    "example_error.status"
   ]
  },
  {
   "cell_type": "code",
   "execution_count": null,
   "metadata": {
    "collapsed": false
   },
   "outputs": [],
   "source": [
    "example_error.result()"
   ]
  },
  {
   "cell_type": "code",
   "execution_count": null,
   "metadata": {
    "collapsed": true
   },
   "outputs": [],
   "source": []
  }
 ],
 "metadata": {
  "kernelspec": {
   "display_name": "Python 3",
   "language": "python",
   "name": "python3"
  },
  "language_info": {
   "codemirror_mode": {
    "name": "ipython",
    "version": 3
   },
   "file_extension": ".py",
   "mimetype": "text/x-python",
   "name": "python",
   "nbconvert_exporter": "python",
   "pygments_lexer": "ipython3",
   "version": "3.4.3"
  }
 },
 "nbformat": 4,
 "nbformat_minor": 1
}
