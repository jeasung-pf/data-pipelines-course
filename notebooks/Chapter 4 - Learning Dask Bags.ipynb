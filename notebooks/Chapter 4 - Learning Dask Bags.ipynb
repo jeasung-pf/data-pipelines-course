{
 "cells": [
  {
   "cell_type": "code",
   "execution_count": 2,
   "metadata": {
    "collapsed": false
   },
   "outputs": [
    {
     "data": {
      "text/html": [
       "\n",
       "    <div class=\"bk-root\">\n",
       "        <a href=\"http://bokeh.pydata.org\" target=\"_blank\" class=\"bk-logo bk-logo-small bk-logo-notebook\"></a>\n",
       "        <span id=\"bc46bad1-4a0b-4ac2-b67c-cb3b97b9a801\">Loading BokehJS ...</span>\n",
       "    </div>"
      ]
     },
     "metadata": {},
     "output_type": "display_data"
    },
    {
     "data": {
      "application/javascript": [
       "\n",
       "(function(global) {\n",
       "  function now() {\n",
       "    return new Date();\n",
       "  }\n",
       "\n",
       "  var force = \"1\";\n",
       "\n",
       "  if (typeof (window._bokeh_onload_callbacks) === \"undefined\" || force !== \"\") {\n",
       "    window._bokeh_onload_callbacks = [];\n",
       "    window._bokeh_is_loading = undefined;\n",
       "  }\n",
       "\n",
       "  function run_callbacks() {\n",
       "    window._bokeh_onload_callbacks.forEach(function(callback) { callback() });\n",
       "    delete window._bokeh_onload_callbacks\n",
       "    console.info(\"Bokeh: all callbacks have finished\");\n",
       "  }\n",
       "\n",
       "  function load_libs(js_urls, callback) {\n",
       "    window._bokeh_onload_callbacks.push(callback);\n",
       "    if (window._bokeh_is_loading > 0) {\n",
       "      console.log(\"Bokeh: BokehJS is being loaded, scheduling callback at\", now());\n",
       "      return null;\n",
       "    }\n",
       "    if (js_urls == null || js_urls.length === 0) {\n",
       "      run_callbacks();\n",
       "      return null;\n",
       "    }\n",
       "    console.log(\"Bokeh: BokehJS not loaded, scheduling load and callback at\", now());\n",
       "    window._bokeh_is_loading = js_urls.length;\n",
       "    for (var i = 0; i < js_urls.length; i++) {\n",
       "      var url = js_urls[i];\n",
       "      var s = document.createElement('script');\n",
       "      s.src = url;\n",
       "      s.async = false;\n",
       "      s.onreadystatechange = s.onload = function() {\n",
       "        window._bokeh_is_loading--;\n",
       "        if (window._bokeh_is_loading === 0) {\n",
       "          console.log(\"Bokeh: all BokehJS libraries loaded\");\n",
       "          run_callbacks()\n",
       "        }\n",
       "      };\n",
       "      s.onerror = function() {\n",
       "        console.warn(\"failed to load library \" + url);\n",
       "      };\n",
       "      console.log(\"Bokeh: injecting script tag for BokehJS library: \", url);\n",
       "      document.getElementsByTagName(\"head\")[0].appendChild(s);\n",
       "    }\n",
       "  };\n",
       "\n",
       "  var js_urls = ['https://cdn.pydata.org/bokeh/release/bokeh-0.12.1.min.js', 'https://cdn.pydata.org/bokeh/release/bokeh-widgets-0.12.1.min.js', 'https://cdn.pydata.org/bokeh/release/bokeh-compiler-0.12.1.min.js'];\n",
       "\n",
       "  var inline_js = [\n",
       "    function(Bokeh) {\n",
       "      Bokeh.set_log_level(\"info\");\n",
       "    },\n",
       "    \n",
       "    function(Bokeh) {\n",
       "      \n",
       "      Bokeh.$(\"#bc46bad1-4a0b-4ac2-b67c-cb3b97b9a801\").text(\"BokehJS successfully loaded\");\n",
       "      var kernel = Jupyter.notebook.kernel\n",
       "      if (kernel.execute !== undefined) {\n",
       "          kernel.execute(\"import bokeh.io; bokeh.io._nb_loaded = True\");\n",
       "      }\n",
       "    },\n",
       "    function(Bokeh) {\n",
       "      console.log(\"Bokeh: injecting CSS: https://cdn.pydata.org/bokeh/release/bokeh-0.12.1.min.css\");\n",
       "      Bokeh.embed.inject_css(\"https://cdn.pydata.org/bokeh/release/bokeh-0.12.1.min.css\");\n",
       "      console.log(\"Bokeh: injecting CSS: https://cdn.pydata.org/bokeh/release/bokeh-widgets-0.12.1.min.css\");\n",
       "      Bokeh.embed.inject_css(\"https://cdn.pydata.org/bokeh/release/bokeh-widgets-0.12.1.min.css\");\n",
       "    }\n",
       "  ];\n",
       "\n",
       "  function run_inline_js() {\n",
       "    for (var i = 0; i < inline_js.length; i++) {\n",
       "      inline_js[i](window.Bokeh);\n",
       "    }\n",
       "  }\n",
       "\n",
       "  if (window._bokeh_is_loading === 0) {\n",
       "    console.log(\"Bokeh: BokehJS loaded, going straight to plotting\");\n",
       "    run_inline_js();\n",
       "  } else {\n",
       "    load_libs(js_urls, function() {\n",
       "      console.log(\"Bokeh: BokehJS plotting callback run at\", now());\n",
       "      run_inline_js();\n",
       "    });\n",
       "  }\n",
       "}(this));"
      ]
     },
     "metadata": {},
     "output_type": "display_data"
    }
   ],
   "source": [
    "from dask import bag\n",
    "import json\n",
    "from bokeh.plotting import output_notebook\n",
    "output_notebook()"
   ]
  },
  {
   "cell_type": "markdown",
   "metadata": {},
   "source": [
    "Some of this notebook is taken from [the Dask Examples repository](https://github.com/dask/dask-examples/blob/master/github-on-ec2.ipynb)\n",
    "\n",
    "To gather the data, I ran this in my terminal from the `data` directory:\n",
    "\n",
    "`wget http://data.githubarchive.org/2016-01-01-{0..23}.json.gz\n",
    "wget http://data.githubarchive.org/2015-12-31-{0..23}.json.gz`\n",
    "\n",
    "This is not (by any means) big data, but is used for example"
   ]
  },
  {
   "cell_type": "code",
   "execution_count": 3,
   "metadata": {
    "collapsed": false
   },
   "outputs": [],
   "source": [
    "db = bag.read_text(['../data/2016*.json.gz', '../data/2015*.json.gz']).map(json.loads)"
   ]
  },
  {
   "cell_type": "code",
   "execution_count": 4,
   "metadata": {
    "collapsed": false
   },
   "outputs": [
    {
     "data": {
      "text/plain": [
       "859983"
      ]
     },
     "execution_count": 4,
     "metadata": {},
     "output_type": "execute_result"
    }
   ],
   "source": [
    "db.count().compute()"
   ]
  },
  {
   "cell_type": "code",
   "execution_count": 5,
   "metadata": {
    "collapsed": false
   },
   "outputs": [
    {
     "data": {
      "text/plain": [
       "{'actor': {'avatar_url': 'https://avatars.githubusercontent.com/u/8684332?',\n",
       "  'gravatar_id': '',\n",
       "  'id': 8684332,\n",
       "  'login': 'Deovandski',\n",
       "  'url': 'https://api.github.com/users/Deovandski'},\n",
       " 'created_at': '2016-01-01T00:00:01Z',\n",
       " 'id': '3486701206',\n",
       " 'payload': {'action': 'started'},\n",
       " 'public': True,\n",
       " 'repo': {'id': 29355212,\n",
       "  'name': 'bssthu/KSP_GPWS',\n",
       "  'url': 'https://api.github.com/repos/bssthu/KSP_GPWS'},\n",
       " 'type': 'WatchEvent'}"
      ]
     },
     "execution_count": 5,
     "metadata": {},
     "output_type": "execute_result"
    }
   ],
   "source": [
    "first = db.take(1)[0]\n",
    "first"
   ]
  },
  {
   "cell_type": "code",
   "execution_count": 6,
   "metadata": {
    "collapsed": false
   },
   "outputs": [
    {
     "data": {
      "text/plain": [
       "{'actor': {'avatar_url': 'https://avatars.githubusercontent.com/u/2889931?',\n",
       "  'gravatar_id': '',\n",
       "  'id': 2889931,\n",
       "  'login': 'dastgir',\n",
       "  'url': 'https://api.github.com/users/dastgir'},\n",
       " 'created_at': '2016-01-01T00:00:02Z',\n",
       " 'id': '3486701226',\n",
       " 'org': {'avatar_url': 'https://avatars.githubusercontent.com/u/6535184?',\n",
       "  'gravatar_id': '',\n",
       "  'id': 6535184,\n",
       "  'login': 'ROClientSide',\n",
       "  'url': 'https://api.github.com/orgs/ROClientSide'},\n",
       " 'payload': {'before': '3a0e13ce2f3e4b0eb80db313a114c60a386f71f5',\n",
       "  'commits': [{'author': {'email': '0e0740481823b422262defa4314b7e6de25f1598@rocketmail.com',\n",
       "     'name': 'Dastgir'},\n",
       "    'distinct': True,\n",
       "    'message': '2014-10-10data_true_k.rgz',\n",
       "    'sha': '4c77d2aec345ec9288a4def5f83646e1e0b122bf',\n",
       "    'url': 'https://api.github.com/repos/ROClientSide/kRO-RAW/commits/4c77d2aec345ec9288a4def5f83646e1e0b122bf'}],\n",
       "  'distinct_size': 1,\n",
       "  'head': '4c77d2aec345ec9288a4def5f83646e1e0b122bf',\n",
       "  'push_id': 919779014,\n",
       "  'ref': 'refs/heads/master',\n",
       "  'size': 1},\n",
       " 'public': True,\n",
       " 'repo': {'id': 48784227,\n",
       "  'name': 'ROClientSide/kRO-RAW',\n",
       "  'url': 'https://api.github.com/repos/ROClientSide/kRO-RAW'},\n",
       " 'type': 'PushEvent'}"
      ]
     },
     "execution_count": 6,
     "metadata": {},
     "output_type": "execute_result"
    }
   ],
   "source": [
    "tenth = db.take(10)[-1]\n",
    "tenth"
   ]
  },
  {
   "cell_type": "code",
   "execution_count": 7,
   "metadata": {
    "collapsed": false
   },
   "outputs": [
    {
     "name": "stdout",
     "output_type": "stream",
     "text": [
      "CPU times: user 92 ms, sys: 36 ms, total: 128 ms\n",
      "Wall time: 5.87 s\n"
     ]
    },
    {
     "data": {
      "text/plain": [
       "[('GollumEvent', 6048),\n",
       " ('ReleaseEvent', 3383),\n",
       " ('CommitCommentEvent', 3703),\n",
       " ('IssuesEvent', 34760),\n",
       " ('IssueCommentEvent', 60842),\n",
       " ('DeleteEvent', 15690),\n",
       " ('WatchEvent', 84809),\n",
       " ('PullRequestEvent', 36867),\n",
       " ('PublicEvent', 658),\n",
       " ('CreateEvent', 102296),\n",
       " ('PushEvent', 472118),\n",
       " ('ForkEvent', 26823),\n",
       " ('PullRequestReviewCommentEvent', 9219),\n",
       " ('MemberEvent', 2767)]"
      ]
     },
     "execution_count": 7,
     "metadata": {},
     "output_type": "execute_result"
    }
   ],
   "source": [
    "%time db.pluck('type').frequencies().compute()"
   ]
  },
  {
   "cell_type": "code",
   "execution_count": 8,
   "metadata": {
    "collapsed": false
   },
   "outputs": [
    {
     "name": "stdout",
     "output_type": "stream",
     "text": [
      "CPU times: user 104 ms, sys: 52 ms, total: 156 ms\n",
      "Wall time: 6.12 s\n"
     ]
    },
    {
     "data": {
      "text/plain": [
       "[('16', 23666),\n",
       " ('17', 22998),\n",
       " ('15', 22889),\n",
       " ('14', 22078),\n",
       " ('18', 21891),\n",
       " ('19', 21707),\n",
       " ('20', 20977),\n",
       " ('22', 20813),\n",
       " ('13', 20653),\n",
       " ('21', 20329)]"
      ]
     },
     "execution_count": 8,
     "metadata": {},
     "output_type": "execute_result"
    }
   ],
   "source": [
    "import re\n",
    "time_pattern = re.compile('[\\d\\-]+T(?P<hour>[\\d]+)')\n",
    "\n",
    "pushes = db.filter(lambda x: x['type'] == 'PushEvent')\n",
    "hours = pushes.pluck('created_at').map(lambda x: re.search(time_pattern, x).group('hour'))\n",
    "top_10_hours = hours.frequencies().topk(10, key=lambda time, count: count)\n",
    "%time top_10_hours.compute()"
   ]
  },
  {
   "cell_type": "code",
   "execution_count": 9,
   "metadata": {
    "collapsed": false
   },
   "outputs": [
    {
     "name": "stdout",
     "output_type": "stream",
     "text": [
      "CPU times: user 120 ms, sys: 36 ms, total: 156 ms\n",
      "Wall time: 6.47 s\n"
     ]
    },
    {
     "data": {
      "text/plain": [
       "[('16', 35982),\n",
       " ('17', 35502),\n",
       " ('15', 34556),\n",
       " ('19', 34045),\n",
       " ('14', 33403),\n",
       " ('18', 32819),\n",
       " ('22', 31887),\n",
       " ('20', 31542),\n",
       " ('13', 30938),\n",
       " ('21', 30915)]"
      ]
     },
     "execution_count": 9,
     "metadata": {},
     "output_type": "execute_result"
    }
   ],
   "source": [
    "def get_hours(x):\n",
    "    \"\"\"The key for foldby, like a groupby key. Get the hour from a PushEvent\"\"\"\n",
    "    return re.search(time_pattern, x['created_at']).group('hour')\n",
    "\n",
    "def binop(total, x):\n",
    "    \"\"\"Count the number of commits in a PushEvent\"\"\"\n",
    "    return total + len(x['payload']['commits'])\n",
    "\n",
    "def combine(total1, total2):\n",
    "    \"\"\"This combines commit counts from PushEvents\"\"\"\n",
    "    return total1 + total2\n",
    "\n",
    "commits = pushes.foldby(get_hours, binop, initial=0, combine=combine)\n",
    "top_commits = commits.topk(10, key=lambda time, count: count)\n",
    "%time top_commits.compute()"
   ]
  },
  {
   "cell_type": "code",
   "execution_count": 10,
   "metadata": {
    "collapsed": false
   },
   "outputs": [
    {
     "name": "stdout",
     "output_type": "stream",
     "text": [
      "CPU times: user 8.78 s, sys: 96 ms, total: 8.88 s\n",
      "Wall time: 13.9 s\n"
     ]
    },
    {
     "data": {
      "text/plain": [
       "[('to', 141009),\n",
       " ('the', 129375),\n",
       " ('for', 81087),\n",
       " ('update', 77323),\n",
       " ('and', 74744),\n",
       " ('of', 63951),\n",
       " ('add', 63837),\n",
       " ('in', 60930),\n",
       " ('from', 60303),\n",
       " ('merge', 59281)]"
      ]
     },
     "execution_count": 10,
     "metadata": {},
     "output_type": "execute_result"
    }
   ],
   "source": [
    "messages = pushes.pluck('payload').map(lambda x: ' '.join([c['message'].lower() for c in x['commits']]))\n",
    "top_10_words = messages.str.split().concat().frequencies().topk(10, lambda word, count: count)\n",
    "%time top_10_words.compute()"
   ]
  },
  {
   "cell_type": "markdown",
   "metadata": {},
   "source": [
    "If you haven't run `nltk` yet, you'll need to download your corpora. To do so, use this:\n",
    "\n",
    "`import nltk; nltk.download()`\n",
    "\n",
    "Follow the prompt and select (d) for Download and then type: `stopwords`\n",
    "\n",
    "Then you can use (q) to quit once the download is completed."
   ]
  },
  {
   "cell_type": "code",
   "execution_count": 1,
   "metadata": {
    "collapsed": false
   },
   "outputs": [],
   "source": [
    "from nltk.corpus import stopwords"
   ]
  },
  {
   "cell_type": "code",
   "execution_count": 12,
   "metadata": {
    "collapsed": true
   },
   "outputs": [],
   "source": [
    "def get_combined_messages(x):\n",
    "    long_str = ' '.join([c['message'].lower() for c in x['commits']])\n",
    "    return ' '.join([w for w in long_str.split() if w not in stopwords.words('english')])"
   ]
  },
  {
   "cell_type": "code",
   "execution_count": 14,
   "metadata": {
    "collapsed": false
   },
   "outputs": [
    {
     "data": {
      "text/plain": [
       "('857 threads update',\n",
       " '',\n",
       " '2014-10-10data_true_k.rgz',\n",
       " 'update',\n",
       " 'fix hsqldb pom.xml file change-id: i44280df790fce678649c36ed736eff93c0ab1ac7 signed-off-by: sharon aicler <saichler@cisco.com>')"
      ]
     },
     "execution_count": 14,
     "metadata": {},
     "output_type": "execute_result"
    }
   ],
   "source": [
    "long_strs = pushes.pluck('payload').map(get_combined_messages)\n",
    "long_strs.take(5)"
   ]
  },
  {
   "cell_type": "code",
   "execution_count": 15,
   "metadata": {
    "collapsed": false
   },
   "outputs": [],
   "source": [
    "top_20_words = long_strs.str.split().concat().frequencies().topk(20, lambda word, count: count)"
   ]
  },
  {
   "cell_type": "code",
   "execution_count": 16,
   "metadata": {
    "collapsed": false
   },
   "outputs": [
    {
     "data": {
      "text/html": [
       "\n",
       "\n",
       "    <div class=\"bk-root\">\n",
       "        <div class=\"plotdiv\" id=\"ac1446d5-1b7d-4e6f-b653-647da2f32931\"></div>\n",
       "    </div>\n",
       "<script type=\"text/javascript\">\n",
       "  \n",
       "  (function(global) {\n",
       "    function now() {\n",
       "      return new Date();\n",
       "    }\n",
       "  \n",
       "    var force = \"\";\n",
       "  \n",
       "    if (typeof (window._bokeh_onload_callbacks) === \"undefined\" || force !== \"\") {\n",
       "      window._bokeh_onload_callbacks = [];\n",
       "      window._bokeh_is_loading = undefined;\n",
       "    }\n",
       "  \n",
       "    function run_callbacks() {\n",
       "      window._bokeh_onload_callbacks.forEach(function(callback) { callback() });\n",
       "      delete window._bokeh_onload_callbacks\n",
       "      console.info(\"Bokeh: all callbacks have finished\");\n",
       "    }\n",
       "  \n",
       "    function load_libs(js_urls, callback) {\n",
       "      window._bokeh_onload_callbacks.push(callback);\n",
       "      if (window._bokeh_is_loading > 0) {\n",
       "        console.log(\"Bokeh: BokehJS is being loaded, scheduling callback at\", now());\n",
       "        return null;\n",
       "      }\n",
       "      if (js_urls == null || js_urls.length === 0) {\n",
       "        run_callbacks();\n",
       "        return null;\n",
       "      }\n",
       "      console.log(\"Bokeh: BokehJS not loaded, scheduling load and callback at\", now());\n",
       "      window._bokeh_is_loading = js_urls.length;\n",
       "      for (var i = 0; i < js_urls.length; i++) {\n",
       "        var url = js_urls[i];\n",
       "        var s = document.createElement('script');\n",
       "        s.src = url;\n",
       "        s.async = false;\n",
       "        s.onreadystatechange = s.onload = function() {\n",
       "          window._bokeh_is_loading--;\n",
       "          if (window._bokeh_is_loading === 0) {\n",
       "            console.log(\"Bokeh: all BokehJS libraries loaded\");\n",
       "            run_callbacks()\n",
       "          }\n",
       "        };\n",
       "        s.onerror = function() {\n",
       "          console.warn(\"failed to load library \" + url);\n",
       "        };\n",
       "        console.log(\"Bokeh: injecting script tag for BokehJS library: \", url);\n",
       "        document.getElementsByTagName(\"head\")[0].appendChild(s);\n",
       "      }\n",
       "    };var element = document.getElementById(\"ac1446d5-1b7d-4e6f-b653-647da2f32931\");\n",
       "    if (element == null) {\n",
       "      console.log(\"Bokeh: ERROR: autoload.js configured with elementid 'ac1446d5-1b7d-4e6f-b653-647da2f32931' but no matching script tag was found. \")\n",
       "      return false;\n",
       "    }\n",
       "  \n",
       "    var js_urls = [];\n",
       "  \n",
       "    var inline_js = [\n",
       "      function(Bokeh) {\n",
       "        Bokeh.$(function() {\n",
       "            var docs_json = {\"28d5f23c-1fad-455b-9eed-7b5457215a59\":{\"roots\":{\"references\":[{\"attributes\":{},\"id\":\"b0e950b0-13b1-43ce-bbbc-c6f69e505860\",\"type\":\"CategoricalTicker\"},{\"attributes\":{\"dimensions\":[\"width\"],\"plot\":{\"id\":\"eb980612-853c-4988-812a-caf3f62bfc92\",\"subtype\":\"Figure\",\"type\":\"Plot\"}},\"id\":\"659bdc39-1fe2-417b-965b-0a864a729750\",\"type\":\"PanTool\"},{\"attributes\":{\"fill_alpha\":{\"value\":0.1},\"fill_color\":{\"value\":\"#1f77b4\"},\"height\":{\"units\":\"data\",\"value\":1},\"line_alpha\":{\"value\":0.1},\"line_color\":{\"value\":\"#1f77b4\"},\"width\":{\"field\":\"width\",\"units\":\"data\"},\"x\":{\"field\":\"x\"},\"y\":{\"field\":\"y\"}},\"id\":\"2d5ef216-741e-46a0-9f8f-95fd96b7c1bc\",\"type\":\"Rect\"},{\"attributes\":{\"plot\":{\"id\":\"eb980612-853c-4988-812a-caf3f62bfc92\",\"subtype\":\"Figure\",\"type\":\"Plot\"}},\"id\":\"2dd48e61-ff0b-4a0f-b63c-76767f543283\",\"type\":\"ResetTool\"},{\"attributes\":{\"callback\":null,\"plot\":{\"id\":\"eb980612-853c-4988-812a-caf3f62bfc92\",\"subtype\":\"Figure\",\"type\":\"Plot\"},\"point_policy\":\"follow_mouse\",\"tooltips\":\"\\n    <div>\\n        <span style=\\\"font-size: 14px; font-weight: bold;\\\">Key:</span>&nbsp;\\n        <span style=\\\"font-size: 10px; font-family: Monaco, monospace;\\\">@key</span>\\n    </div>\\n    <div>\\n        <span style=\\\"font-size: 14px; font-weight: bold;\\\">Task:</span>&nbsp;\\n        <span style=\\\"font-size: 10px; font-family: Monaco, monospace;\\\">@function</span>\\n    </div>\\n    \"},\"id\":\"3c7a8cc7-f0dc-4ad9-b143-d93804f51f9a\",\"type\":\"HoverTool\"},{\"attributes\":{\"callback\":null,\"column_names\":[\"x\",\"y\",\"width\",\"function\",\"color\",\"key\"],\"data\":{\"color\":[\"#7fcdbb\",\"#7fcdbb\",\"#7fcdbb\",\"#7fcdbb\",\"#edf8b1\",\"#7fcdbb\",\"#7fcdbb\",\"#7fcdbb\",\"#7fcdbb\",\"#7fcdbb\",\"#2c7fb8\",\"#7fcdbb\",\"#7fcdbb\",\"#7fcdbb\",\"#7fcdbb\",\"#7fcdbb\",\"#7fcdbb\",\"#7fcdbb\",\"#7fcdbb\",\"#7fcdbb\",\"#7fcdbb\",\"#7fcdbb\",\"#2c7fb8\",\"#7fcdbb\",\"#7fcdbb\",\"#7fcdbb\",\"#7fcdbb\",\"#7fcdbb\",\"#7fcdbb\",\"#7fcdbb\",\"#7fcdbb\",\"#7fcdbb\",\"#7fcdbb\",\"#7fcdbb\",\"#7fcdbb\",\"#7fcdbb\",\"#7fcdbb\",\"#7fcdbb\",\"#7fcdbb\",\"#7fcdbb\",\"#7fcdbb\",\"#2c7fb8\",\"#7fcdbb\",\"#7fcdbb\",\"#7fcdbb\",\"#7fcdbb\",\"#2c7fb8\",\"#7fcdbb\",\"#7fcdbb\",\"#7fcdbb\",\"#7fcdbb\",\"#2c7fb8\",\"#2c7fb8\",\"#7fcdbb\",\"#7fcdbb\"],\"function\":[\"empty_safe_apply(*, concat(map(...)))\",\"empty_safe_apply(*, concat(map(...)))\",\"empty_safe_apply(*, concat(map(...)))\",\"empty_safe_apply(*, concat(map(...)))\",\"empty_safe_apply(*, dictitems(empty_safe_aggregate(...)))\",\"empty_safe_apply(*, concat(map(...)))\",\"empty_safe_apply(*, concat(map(...)))\",\"empty_safe_apply(*, concat(map(...)))\",\"empty_safe_apply(*, concat(map(...)))\",\"empty_safe_apply(*, concat(map(...)))\",\"empty_safe_aggregate(*, [_, _, _, ...])\",\"empty_safe_apply(*, concat(map(...)))\",\"empty_safe_apply(*, concat(map(...)))\",\"empty_safe_apply(*, concat(map(...)))\",\"empty_safe_apply(*, concat(map(...)))\",\"empty_safe_apply(*, concat(map(...)))\",\"empty_safe_apply(*, concat(map(...)))\",\"empty_safe_apply(*, concat(map(...)))\",\"empty_safe_apply(*, concat(map(...)))\",\"empty_safe_apply(*, concat(map(...)))\",\"empty_safe_apply(*, concat(map(...)))\",\"empty_safe_apply(*, concat(map(...)))\",\"empty_safe_aggregate(*, [_, _, _, ...])\",\"empty_safe_apply(*, concat(map(...)))\",\"empty_safe_apply(*, concat(map(...)))\",\"empty_safe_apply(*, concat(map(...)))\",\"empty_safe_apply(*, concat(map(...)))\",\"empty_safe_apply(*, concat(map(...)))\",\"empty_safe_apply(*, concat(map(...)))\",\"empty_safe_apply(*, concat(map(...)))\",\"empty_safe_apply(*, concat(map(...)))\",\"empty_safe_apply(*, concat(map(...)))\",\"empty_safe_apply(*, concat(map(...)))\",\"empty_safe_apply(*, concat(map(...)))\",\"empty_safe_apply(*, concat(map(...)))\",\"empty_safe_apply(*, concat(map(...)))\",\"empty_safe_apply(*, concat(map(...)))\",\"empty_safe_apply(*, concat(map(...)))\",\"empty_safe_apply(*, concat(map(...)))\",\"empty_safe_apply(*, concat(map(...)))\",\"empty_safe_apply(*, concat(map(...)))\",\"empty_safe_aggregate(*, [_, _, _, ...])\",\"empty_safe_apply(*, concat(map(...)))\",\"empty_safe_apply(*, concat(map(...)))\",\"empty_safe_apply(*, concat(map(...)))\",\"empty_safe_apply(*, concat(map(...)))\",\"empty_safe_aggregate(*, [_, _, _, ...])\",\"empty_safe_apply(*, concat(map(...)))\",\"empty_safe_apply(*, concat(map(...)))\",\"empty_safe_apply(*, concat(map(...)))\",\"empty_safe_apply(*, concat(map(...)))\",\"empty_safe_aggregate(*, [_, _, _, ...])\",\"empty_safe_aggregate(*, [_, _, _, ...])\",\"empty_safe_apply(*, concat(map(...)))\",\"empty_safe_apply(*, concat(map(...)))\"],\"key\":[\"('frequencies-part-d30fb3d46f6dcafa8d15715d31937a1b', 46)\",\"('frequencies-part-d30fb3d46f6dcafa8d15715d31937a1b', 25)\",\"('frequencies-part-d30fb3d46f6dcafa8d15715d31937a1b', 15)\",\"('frequencies-part-d30fb3d46f6dcafa8d15715d31937a1b', 22)\",\"('topk-part-16ac5953f674b8f4e54239c8af3088ec', 0)\",\"('frequencies-part-d30fb3d46f6dcafa8d15715d31937a1b', 34)\",\"('frequencies-part-d30fb3d46f6dcafa8d15715d31937a1b', 29)\",\"('frequencies-part-d30fb3d46f6dcafa8d15715d31937a1b', 3)\",\"('frequencies-part-d30fb3d46f6dcafa8d15715d31937a1b', 41)\",\"('frequencies-part-d30fb3d46f6dcafa8d15715d31937a1b', 10)\",\"('frequencies-aggregate-d30fb3d46f6dcafa8d15715d31937a1b0', 1)\",\"('frequencies-part-d30fb3d46f6dcafa8d15715d31937a1b', 38)\",\"('frequencies-part-d30fb3d46f6dcafa8d15715d31937a1b', 17)\",\"('frequencies-part-d30fb3d46f6dcafa8d15715d31937a1b', 7)\",\"('frequencies-part-d30fb3d46f6dcafa8d15715d31937a1b', 45)\",\"('frequencies-part-d30fb3d46f6dcafa8d15715d31937a1b', 24)\",\"('frequencies-part-d30fb3d46f6dcafa8d15715d31937a1b', 14)\",\"('frequencies-part-d30fb3d46f6dcafa8d15715d31937a1b', 21)\",\"('frequencies-part-d30fb3d46f6dcafa8d15715d31937a1b', 33)\",\"('frequencies-part-d30fb3d46f6dcafa8d15715d31937a1b', 28)\",\"('frequencies-part-d30fb3d46f6dcafa8d15715d31937a1b', 2)\",\"('frequencies-part-d30fb3d46f6dcafa8d15715d31937a1b', 40)\",\"('frequencies-aggregate-d30fb3d46f6dcafa8d15715d31937a1b0', 4)\",\"('frequencies-part-d30fb3d46f6dcafa8d15715d31937a1b', 9)\",\"('frequencies-part-d30fb3d46f6dcafa8d15715d31937a1b', 37)\",\"('frequencies-part-d30fb3d46f6dcafa8d15715d31937a1b', 16)\",\"('frequencies-part-d30fb3d46f6dcafa8d15715d31937a1b', 6)\",\"('frequencies-part-d30fb3d46f6dcafa8d15715d31937a1b', 42)\",\"('frequencies-part-d30fb3d46f6dcafa8d15715d31937a1b', 44)\",\"('frequencies-part-d30fb3d46f6dcafa8d15715d31937a1b', 13)\",\"('frequencies-part-d30fb3d46f6dcafa8d15715d31937a1b', 20)\",\"('frequencies-part-d30fb3d46f6dcafa8d15715d31937a1b', 32)\",\"('frequencies-part-d30fb3d46f6dcafa8d15715d31937a1b', 27)\",\"('frequencies-part-d30fb3d46f6dcafa8d15715d31937a1b', 1)\",\"('frequencies-part-d30fb3d46f6dcafa8d15715d31937a1b', 11)\",\"('frequencies-part-d30fb3d46f6dcafa8d15715d31937a1b', 8)\",\"('frequencies-part-d30fb3d46f6dcafa8d15715d31937a1b', 36)\",\"('frequencies-part-d30fb3d46f6dcafa8d15715d31937a1b', 31)\",\"('frequencies-part-d30fb3d46f6dcafa8d15715d31937a1b', 5)\",\"('frequencies-part-d30fb3d46f6dcafa8d15715d31937a1b', 43)\",\"('frequencies-part-d30fb3d46f6dcafa8d15715d31937a1b', 12)\",\"('frequencies-aggregate-d30fb3d46f6dcafa8d15715d31937a1b0', 5)\",\"('frequencies-part-d30fb3d46f6dcafa8d15715d31937a1b', 19)\",\"('frequencies-part-d30fb3d46f6dcafa8d15715d31937a1b', 47)\",\"('frequencies-part-d30fb3d46f6dcafa8d15715d31937a1b', 26)\",\"('frequencies-part-d30fb3d46f6dcafa8d15715d31937a1b', 0)\",\"('frequencies-aggregate-d30fb3d46f6dcafa8d15715d31937a1b0', 0)\",\"('frequencies-part-d30fb3d46f6dcafa8d15715d31937a1b', 23)\",\"('frequencies-part-d30fb3d46f6dcafa8d15715d31937a1b', 35)\",\"('frequencies-part-d30fb3d46f6dcafa8d15715d31937a1b', 30)\",\"('frequencies-part-d30fb3d46f6dcafa8d15715d31937a1b', 4)\",\"('frequencies-aggregate-d30fb3d46f6dcafa8d15715d31937a1b0', 3)\",\"('frequencies-aggregate-d30fb3d46f6dcafa8d15715d31937a1b0', 2)\",\"('frequencies-part-d30fb3d46f6dcafa8d15715d31937a1b', 39)\",\"('frequencies-part-d30fb3d46f6dcafa8d15715d31937a1b', 18)\"],\"width\":[16.996127933001844,27.856190919002984,18.438549979997333,8.380405309988419,3.381820771988714,17.251094485021895,25.36781765599153,13.182114524999633,18.049186895019375,19.592458561994135,0.961604061012622,15.779698990983889,10.244875264994334,21.376599924988113,18.813665025983937,27.432290213997476,13.64425835100701,10.054229706001934,19.19190438700025,26.55343217999325,11.068876908975653,15.291118254011963,2.9185012859816197,18.658042583003407,14.55506873401464,20.176963247999083,15.743155172996921,17.094786916015437,16.335255332989618,19.689569687994663,10.87941383299767,22.298384512978373,25.100474687002134,13.254311320983106,18.79377251700498,17.46618694299832,14.930125177983427,31.118745751999086,16.968008933996316,17.697108832013328,12.290081735001877,1.8993460240017157,8.31051571201533,18.743546925019473,24.13741882998147,15.247425312001724,1.862410378002096,10.469243022002047,19.815205416991375,32.029375279991655,14.211951353994664,2.7583851469971705,2.0247392909950577,16.198950086021796,10.382880466000643],\"x\":[33.72973930952139,69.6098448295088,100.09087757402449,39.502267887000926,115.38260630803416,8.63731377152726,56.81107612099731,81.19279464351712,26.287463817512617,97.73212526200223,113.21088680651155,7.893049232516205,38.497820923512336,80.18329320751945,23.968540352012496,57.33641247800551,105.90794895551517,43.59632638702169,9.60919616848696,58.242252744035795,80.32983858051011,26.850715400010813,23.772414649021812,97.81601814151509,7.284164966025855,43.568507448013406,78.92414334253408,24.7463525350322,23.10672390050604,96.1411283990019,45.02459332649596,11.163962530496065,61.17368844849989,82.34901793452445,97.18076304352144,97.70927609351929,7.474024777999148,59.23601795901777,80.00298309201025,24.631462493009167,92.94076979652164,43.177485110005364,35.42961911900784,29.197428706509527,62.53301852202276,93.48799824601156,102.04292445300962,39.730907169985585,9.918043537501944,59.70716655201977,80.82991072000004,84.9171406684909,54.66936790352338,8.099475043010898,38.48519505400327],\"y\":[4,1,4,7,1,7,4,5,7,2,8,1,6,4,6,6,6,2,3,3,8,3,4,3,6,1,6,8,5,1,5,4,2,7,5,7,5,8,3,1,6,4,5,2,5,8,8,3,2,7,2,1,1,8,8]}},\"id\":\"7d9aaf59-8366-4451-b99c-058c6cb4bf80\",\"type\":\"ColumnDataSource\"},{\"attributes\":{\"active_drag\":\"auto\",\"active_scroll\":\"auto\",\"active_tap\":\"auto\",\"tools\":[{\"id\":\"3c7a8cc7-f0dc-4ad9-b143-d93804f51f9a\",\"type\":\"HoverTool\"},{\"id\":\"98d9db8b-d97a-4a04-9dae-e3814ddac4cb\",\"type\":\"SaveTool\"},{\"id\":\"2dd48e61-ff0b-4a0f-b63c-76767f543283\",\"type\":\"ResetTool\"},{\"id\":\"aeb43cee-2d47-477b-b648-4442acbf6833\",\"type\":\"ResizeTool\"},{\"id\":\"b9c9992d-c866-4621-8801-48c065a4cb50\",\"type\":\"WheelZoomTool\"},{\"id\":\"659bdc39-1fe2-417b-965b-0a864a729750\",\"type\":\"PanTool\"}]},\"id\":\"2f7617cb-eef0-477a-870a-ff5a5b4cad1b\",\"type\":\"Toolbar\"},{\"attributes\":{\"axis_label\":\"Worker ID\",\"axis_line_color\":{\"value\":null},\"formatter\":{\"id\":\"29626593-f751-4a4d-82db-871b59f040e2\",\"type\":\"CategoricalTickFormatter\"},\"major_tick_line_color\":{\"value\":null},\"plot\":{\"id\":\"eb980612-853c-4988-812a-caf3f62bfc92\",\"subtype\":\"Figure\",\"type\":\"Plot\"},\"ticker\":{\"id\":\"b0e950b0-13b1-43ce-bbbc-c6f69e505860\",\"type\":\"CategoricalTicker\"}},\"id\":\"ab258c29-a3bc-4c65-afa5-373e7e28b8f8\",\"type\":\"CategoricalAxis\"},{\"attributes\":{\"plot\":{\"id\":\"eb980612-853c-4988-812a-caf3f62bfc92\",\"subtype\":\"Figure\",\"type\":\"Plot\"}},\"id\":\"98d9db8b-d97a-4a04-9dae-e3814ddac4cb\",\"type\":\"SaveTool\"},{\"attributes\":{\"callback\":null,\"factors\":[\"0\",\"1\",\"2\",\"3\",\"4\",\"5\",\"6\",\"7\"]},\"id\":\"123336cc-6991-47be-a7ab-0b56bcaeb207\",\"type\":\"FactorRange\"},{\"attributes\":{\"dimensions\":[\"width\"],\"plot\":{\"id\":\"eb980612-853c-4988-812a-caf3f62bfc92\",\"subtype\":\"Figure\",\"type\":\"Plot\"}},\"id\":\"b9c9992d-c866-4621-8801-48c065a4cb50\",\"type\":\"WheelZoomTool\"},{\"attributes\":{\"fill_color\":{\"field\":\"color\"},\"height\":{\"units\":\"data\",\"value\":1},\"line_color\":{\"value\":\"gray\"},\"width\":{\"field\":\"width\",\"units\":\"data\"},\"x\":{\"field\":\"x\"},\"y\":{\"field\":\"y\"}},\"id\":\"ea3dfc49-1832-463a-a5ff-1ce2f1460983\",\"type\":\"Rect\"},{\"attributes\":{},\"id\":\"553c310c-d1d0-44e1-8d4b-db21a199dca0\",\"type\":\"ToolEvents\"},{\"attributes\":{\"callback\":null,\"end\":117.07351669401396},\"id\":\"d201b14c-6e31-42a0-975d-bec7098b64ac\",\"type\":\"Range1d\"},{\"attributes\":{\"plot\":null,\"text\":\"Profile Results\"},\"id\":\"4d554233-705e-4e4b-bd05-23ff7340ddd8\",\"type\":\"Title\"},{\"attributes\":{},\"id\":\"12623b10-a4dc-47e5-a8f8-14da4edc49c1\",\"type\":\"BasicTicker\"},{\"attributes\":{\"below\":[{\"id\":\"159acc50-2ded-4422-a3eb-16f9ef2d2e08\",\"type\":\"LinearAxis\"}],\"left\":[{\"id\":\"ab258c29-a3bc-4c65-afa5-373e7e28b8f8\",\"type\":\"CategoricalAxis\"}],\"plot_height\":300,\"plot_width\":800,\"renderers\":[{\"id\":\"159acc50-2ded-4422-a3eb-16f9ef2d2e08\",\"type\":\"LinearAxis\"},{\"id\":\"c1457c9f-6447-422d-9ae5-655c94f69d8e\",\"type\":\"Grid\"},{\"id\":\"ab258c29-a3bc-4c65-afa5-373e7e28b8f8\",\"type\":\"CategoricalAxis\"},{\"id\":\"5e929d5f-0661-47d0-943d-da089301f76a\",\"type\":\"Grid\"},{\"id\":\"2201b4fe-f36d-43a0-9f6f-a4af018da5aa\",\"type\":\"GlyphRenderer\"}],\"title\":{\"id\":\"4d554233-705e-4e4b-bd05-23ff7340ddd8\",\"type\":\"Title\"},\"tool_events\":{\"id\":\"553c310c-d1d0-44e1-8d4b-db21a199dca0\",\"type\":\"ToolEvents\"},\"toolbar\":{\"id\":\"2f7617cb-eef0-477a-870a-ff5a5b4cad1b\",\"type\":\"Toolbar\"},\"x_range\":{\"id\":\"d201b14c-6e31-42a0-975d-bec7098b64ac\",\"type\":\"Range1d\"},\"y_range\":{\"id\":\"123336cc-6991-47be-a7ab-0b56bcaeb207\",\"type\":\"FactorRange\"}},\"id\":\"eb980612-853c-4988-812a-caf3f62bfc92\",\"subtype\":\"Figure\",\"type\":\"Plot\"},{\"attributes\":{},\"id\":\"29626593-f751-4a4d-82db-871b59f040e2\",\"type\":\"CategoricalTickFormatter\"},{\"attributes\":{},\"id\":\"5c3f12be-7620-4fe4-8072-564349f2fb54\",\"type\":\"BasicTickFormatter\"},{\"attributes\":{\"axis_label\":\"Time (s)\",\"axis_line_color\":{\"value\":null},\"formatter\":{\"id\":\"5c3f12be-7620-4fe4-8072-564349f2fb54\",\"type\":\"BasicTickFormatter\"},\"major_tick_line_color\":{\"value\":null},\"plot\":{\"id\":\"eb980612-853c-4988-812a-caf3f62bfc92\",\"subtype\":\"Figure\",\"type\":\"Plot\"},\"ticker\":{\"id\":\"12623b10-a4dc-47e5-a8f8-14da4edc49c1\",\"type\":\"BasicTicker\"}},\"id\":\"159acc50-2ded-4422-a3eb-16f9ef2d2e08\",\"type\":\"LinearAxis\"},{\"attributes\":{\"dimension\":1,\"grid_line_color\":{\"value\":null},\"plot\":{\"id\":\"eb980612-853c-4988-812a-caf3f62bfc92\",\"subtype\":\"Figure\",\"type\":\"Plot\"},\"ticker\":{\"id\":\"b0e950b0-13b1-43ce-bbbc-c6f69e505860\",\"type\":\"CategoricalTicker\"}},\"id\":\"5e929d5f-0661-47d0-943d-da089301f76a\",\"type\":\"Grid\"},{\"attributes\":{\"plot\":{\"id\":\"eb980612-853c-4988-812a-caf3f62bfc92\",\"subtype\":\"Figure\",\"type\":\"Plot\"}},\"id\":\"aeb43cee-2d47-477b-b648-4442acbf6833\",\"type\":\"ResizeTool\"},{\"attributes\":{\"grid_line_color\":{\"value\":null},\"plot\":{\"id\":\"eb980612-853c-4988-812a-caf3f62bfc92\",\"subtype\":\"Figure\",\"type\":\"Plot\"},\"ticker\":{\"id\":\"12623b10-a4dc-47e5-a8f8-14da4edc49c1\",\"type\":\"BasicTicker\"}},\"id\":\"c1457c9f-6447-422d-9ae5-655c94f69d8e\",\"type\":\"Grid\"},{\"attributes\":{\"data_source\":{\"id\":\"7d9aaf59-8366-4451-b99c-058c6cb4bf80\",\"type\":\"ColumnDataSource\"},\"glyph\":{\"id\":\"ea3dfc49-1832-463a-a5ff-1ce2f1460983\",\"type\":\"Rect\"},\"hover_glyph\":null,\"nonselection_glyph\":{\"id\":\"2d5ef216-741e-46a0-9f8f-95fd96b7c1bc\",\"type\":\"Rect\"},\"selection_glyph\":null},\"id\":\"2201b4fe-f36d-43a0-9f6f-a4af018da5aa\",\"type\":\"GlyphRenderer\"}],\"root_ids\":[\"eb980612-853c-4988-812a-caf3f62bfc92\"]},\"title\":\"Bokeh Application\",\"version\":\"0.12.1\"}};\n",
       "            var render_items = [{\"docid\":\"28d5f23c-1fad-455b-9eed-7b5457215a59\",\"elementid\":\"ac1446d5-1b7d-4e6f-b653-647da2f32931\",\"modelid\":\"eb980612-853c-4988-812a-caf3f62bfc92\",\"notebook_comms_target\":\"6d689386-fedd-4d9c-8a59-c91318d45b28\"}];\n",
       "            \n",
       "            Bokeh.embed.embed_items(docs_json, render_items);\n",
       "        });\n",
       "      },\n",
       "      function(Bokeh) {\n",
       "      }\n",
       "    ];\n",
       "  \n",
       "    function run_inline_js() {\n",
       "      for (var i = 0; i < inline_js.length; i++) {\n",
       "        inline_js[i](window.Bokeh);\n",
       "      }\n",
       "    }\n",
       "  \n",
       "    if (window._bokeh_is_loading === 0) {\n",
       "      console.log(\"Bokeh: BokehJS loaded, going straight to plotting\");\n",
       "      run_inline_js();\n",
       "    } else {\n",
       "      load_libs(js_urls, function() {\n",
       "        console.log(\"Bokeh: BokehJS plotting callback run at\", now());\n",
       "        run_inline_js();\n",
       "      });\n",
       "    }\n",
       "  }(this));\n",
       "</script>"
      ]
     },
     "metadata": {},
     "output_type": "display_data"
    },
    {
     "data": {
      "text/plain": [
       "<bokeh.plotting.figure.Figure at 0x7ffb6d59cb70>"
      ]
     },
     "execution_count": 16,
     "metadata": {},
     "output_type": "execute_result"
    }
   ],
   "source": [
    "from dask.diagnostics import Profiler\n",
    "prof = Profiler()\n",
    "\n",
    "with prof:\n",
    "    res = top_20_words.compute()\n",
    "\n",
    "prof.visualize()"
   ]
  },
  {
   "cell_type": "code",
   "execution_count": 17,
   "metadata": {
    "collapsed": false
   },
   "outputs": [
    {
     "data": {
      "text/plain": [
       "[('update', 77323),\n",
       " ('add', 63837),\n",
       " ('merge', 59281),\n",
       " ('added', 44989),\n",
       " ('fix', 42818),\n",
       " ('-', 35355),\n",
       " ('request', 32685),\n",
       " ('pull', 31862),\n",
       " ('branch', 25603),\n",
       " ('git-svn-id:', 24360),\n",
       " ('new', 23980),\n",
       " ('updated', 20548),\n",
       " ('signed-off-by:', 20469),\n",
       " ('commit', 19870),\n",
       " ('fdecad78-55fc-0310-b1b2-d7d25cf747c9', 19411),\n",
       " ('test', 18522),\n",
       " ('use', 17921),\n",
       " ('change', 16499),\n",
       " ('remove', 16463),\n",
       " ('fixed', 16147)]"
      ]
     },
     "execution_count": 17,
     "metadata": {},
     "output_type": "execute_result"
    }
   ],
   "source": [
    "res"
   ]
  },
  {
   "cell_type": "code",
   "execution_count": null,
   "metadata": {
    "collapsed": true
   },
   "outputs": [],
   "source": []
  }
 ],
 "metadata": {
  "kernelspec": {
   "display_name": "Python 3",
   "language": "python",
   "name": "python3"
  },
  "language_info": {
   "codemirror_mode": {
    "name": "ipython",
    "version": 3
   },
   "file_extension": ".py",
   "mimetype": "text/x-python",
   "name": "python",
   "nbconvert_exporter": "python",
   "pygments_lexer": "ipython3",
   "version": "3.4.3"
  }
 },
 "nbformat": 4,
 "nbformat_minor": 1
}
